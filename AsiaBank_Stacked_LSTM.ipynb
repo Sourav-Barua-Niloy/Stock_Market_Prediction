{
 "cells": [
  {
   "cell_type": "markdown",
   "id": "eb2048dc",
   "metadata": {},
   "source": [
    "# Stock Price Prediction Of Asia Bank"
   ]
  },
  {
   "cell_type": "code",
   "execution_count": 1,
   "id": "ec91f7e2",
   "metadata": {},
   "outputs": [
    {
     "name": "stdout",
     "output_type": "stream",
     "text": [
      "Requirement already satisfied: pandas_datareader in c:\\users\\soura\\anaconda3\\lib\\site-packages (0.10.0)\n",
      "Requirement already satisfied: lxml in c:\\users\\soura\\anaconda3\\lib\\site-packages (from pandas_datareader) (4.9.3)\n",
      "Requirement already satisfied: pandas>=0.23 in c:\\users\\soura\\anaconda3\\lib\\site-packages (from pandas_datareader) (2.0.3)\n",
      "Requirement already satisfied: requests>=2.19.0 in c:\\users\\soura\\anaconda3\\lib\\site-packages (from pandas_datareader) (2.31.0)\n",
      "Requirement already satisfied: python-dateutil>=2.8.2 in c:\\users\\soura\\anaconda3\\lib\\site-packages (from pandas>=0.23->pandas_datareader) (2.8.2)\n",
      "Requirement already satisfied: pytz>=2020.1 in c:\\users\\soura\\anaconda3\\lib\\site-packages (from pandas>=0.23->pandas_datareader) (2023.3.post1)\n",
      "Requirement already satisfied: tzdata>=2022.1 in c:\\users\\soura\\anaconda3\\lib\\site-packages (from pandas>=0.23->pandas_datareader) (2023.3)\n",
      "Requirement already satisfied: numpy>=1.21.0 in c:\\users\\soura\\anaconda3\\lib\\site-packages (from pandas>=0.23->pandas_datareader) (1.24.3)\n",
      "Requirement already satisfied: charset-normalizer<4,>=2 in c:\\users\\soura\\anaconda3\\lib\\site-packages (from requests>=2.19.0->pandas_datareader) (2.0.4)\n",
      "Requirement already satisfied: idna<4,>=2.5 in c:\\users\\soura\\anaconda3\\lib\\site-packages (from requests>=2.19.0->pandas_datareader) (3.4)\n",
      "Requirement already satisfied: urllib3<3,>=1.21.1 in c:\\users\\soura\\anaconda3\\lib\\site-packages (from requests>=2.19.0->pandas_datareader) (1.26.16)\n",
      "Requirement already satisfied: certifi>=2017.4.17 in c:\\users\\soura\\anaconda3\\lib\\site-packages (from requests>=2.19.0->pandas_datareader) (2023.11.17)\n",
      "Requirement already satisfied: six>=1.5 in c:\\users\\soura\\anaconda3\\lib\\site-packages (from python-dateutil>=2.8.2->pandas>=0.23->pandas_datareader) (1.16.0)\n"
     ]
    }
   ],
   "source": [
    "!pip install pandas_datareader"
   ]
  },
  {
   "cell_type": "code",
   "execution_count": 2,
   "id": "33982e3d",
   "metadata": {},
   "outputs": [],
   "source": [
    "### Data Collection\n",
    "import pandas_datareader as pdr"
   ]
  },
  {
   "cell_type": "code",
   "execution_count": 3,
   "id": "87d1978b",
   "metadata": {},
   "outputs": [],
   "source": [
    "import pandas as pd"
   ]
  },
  {
   "cell_type": "code",
   "execution_count": 4,
   "id": "c9cb2a61",
   "metadata": {},
   "outputs": [
    {
     "name": "stdout",
     "output_type": "stream",
     "text": [
      "         Date  Open  High   Low  Close     Volume  Adj Close\n",
      "0  12/30/2004  5.01  5.01  4.89   4.92  1,540,134       4.92\n",
      "1  12/29/2004  4.86  4.99  4.68   4.93  3,370,439       4.93\n",
      "2  12/28/2004  4.77  4.84  4.70   4.76  1,807,984       4.76\n",
      "3  12/27/2004  4.84  4.84  4.74   4.76    855,630       4.76\n",
      "4  12/23/2004  4.84  4.89  4.78   4.86  1,443,411       4.86\n"
     ]
    }
   ],
   "source": [
    "# Load your dataset\n",
    "df = pd.read_csv(\"C:/Users/soura/Stock Exchange Codes/CSV FILES/BankAsia.csv\")\n",
    "\n",
    "# Display the first few rows of the dataset\n",
    "print(df.head())"
   ]
  },
  {
   "cell_type": "code",
   "execution_count": 5,
   "id": "1a13e416",
   "metadata": {},
   "outputs": [
    {
     "data": {
      "text/html": [
       "<div>\n",
       "<style scoped>\n",
       "    .dataframe tbody tr th:only-of-type {\n",
       "        vertical-align: middle;\n",
       "    }\n",
       "\n",
       "    .dataframe tbody tr th {\n",
       "        vertical-align: top;\n",
       "    }\n",
       "\n",
       "    .dataframe thead th {\n",
       "        text-align: right;\n",
       "    }\n",
       "</style>\n",
       "<table border=\"1\" class=\"dataframe\">\n",
       "  <thead>\n",
       "    <tr style=\"text-align: right;\">\n",
       "      <th></th>\n",
       "      <th>Date</th>\n",
       "      <th>Open</th>\n",
       "      <th>High</th>\n",
       "      <th>Low</th>\n",
       "      <th>Close</th>\n",
       "      <th>Volume</th>\n",
       "      <th>Adj Close</th>\n",
       "    </tr>\n",
       "  </thead>\n",
       "  <tbody>\n",
       "    <tr>\n",
       "      <th>3690</th>\n",
       "      <td>1/16/2023</td>\n",
       "      <td>20.2</td>\n",
       "      <td>20.2</td>\n",
       "      <td>20.2</td>\n",
       "      <td>20.2</td>\n",
       "      <td>246,615</td>\n",
       "      <td>20.2</td>\n",
       "    </tr>\n",
       "    <tr>\n",
       "      <th>3691</th>\n",
       "      <td>1/5/2023</td>\n",
       "      <td>20.2</td>\n",
       "      <td>20.2</td>\n",
       "      <td>20.2</td>\n",
       "      <td>20.2</td>\n",
       "      <td>670,313</td>\n",
       "      <td>20.2</td>\n",
       "    </tr>\n",
       "    <tr>\n",
       "      <th>3692</th>\n",
       "      <td>1/4/2023</td>\n",
       "      <td>20.2</td>\n",
       "      <td>20.2</td>\n",
       "      <td>20.2</td>\n",
       "      <td>20.2</td>\n",
       "      <td>14,220</td>\n",
       "      <td>20.2</td>\n",
       "    </tr>\n",
       "    <tr>\n",
       "      <th>3693</th>\n",
       "      <td>1/3/2023</td>\n",
       "      <td>20.2</td>\n",
       "      <td>20.2</td>\n",
       "      <td>20.2</td>\n",
       "      <td>20.2</td>\n",
       "      <td>100</td>\n",
       "      <td>20.2</td>\n",
       "    </tr>\n",
       "    <tr>\n",
       "      <th>3694</th>\n",
       "      <td>1/2/2023</td>\n",
       "      <td>20.2</td>\n",
       "      <td>20.2</td>\n",
       "      <td>20.2</td>\n",
       "      <td>20.2</td>\n",
       "      <td>530</td>\n",
       "      <td>20.2</td>\n",
       "    </tr>\n",
       "  </tbody>\n",
       "</table>\n",
       "</div>"
      ],
      "text/plain": [
       "           Date  Open  High   Low  Close   Volume  Adj Close\n",
       "3690  1/16/2023  20.2  20.2  20.2   20.2  246,615       20.2\n",
       "3691   1/5/2023  20.2  20.2  20.2   20.2  670,313       20.2\n",
       "3692   1/4/2023  20.2  20.2  20.2   20.2   14,220       20.2\n",
       "3693   1/3/2023  20.2  20.2  20.2   20.2      100       20.2\n",
       "3694   1/2/2023  20.2  20.2  20.2   20.2      530       20.2"
      ]
     },
     "execution_count": 5,
     "metadata": {},
     "output_type": "execute_result"
    }
   ],
   "source": [
    "df.tail()"
   ]
  },
  {
   "cell_type": "code",
   "execution_count": 6,
   "id": "05acff31",
   "metadata": {},
   "outputs": [],
   "source": [
    "df1=df.reset_index()['Close']"
   ]
  },
  {
   "cell_type": "code",
   "execution_count": 7,
   "id": "e51e7476",
   "metadata": {},
   "outputs": [
    {
     "data": {
      "text/plain": [
       "0        4.92\n",
       "1        4.93\n",
       "2        4.76\n",
       "3        4.76\n",
       "4        4.86\n",
       "        ...  \n",
       "3690    20.20\n",
       "3691    20.20\n",
       "3692    20.20\n",
       "3693    20.20\n",
       "3694    20.20\n",
       "Name: Close, Length: 3695, dtype: float64"
      ]
     },
     "execution_count": 7,
     "metadata": {},
     "output_type": "execute_result"
    }
   ],
   "source": [
    "df1"
   ]
  },
  {
   "cell_type": "code",
   "execution_count": 8,
   "id": "23fc432c",
   "metadata": {},
   "outputs": [
    {
     "data": {
      "text/plain": [
       "(3695,)"
      ]
     },
     "execution_count": 8,
     "metadata": {},
     "output_type": "execute_result"
    }
   ],
   "source": [
    "df1.shape"
   ]
  },
  {
   "cell_type": "code",
   "execution_count": 9,
   "id": "09b9af9f",
   "metadata": {},
   "outputs": [],
   "source": [
    "import matplotlib.pyplot as plt"
   ]
  },
  {
   "cell_type": "code",
   "execution_count": 10,
   "id": "65dc6dbc",
   "metadata": {},
   "outputs": [
    {
     "data": {
      "text/plain": [
       "[<matplotlib.lines.Line2D at 0x21672a61d50>]"
      ]
     },
     "execution_count": 10,
     "metadata": {},
     "output_type": "execute_result"
    },
    {
     "data": {
      "image/png": "[encoded data removed]",
      "text/plain": [
       "<Figure size 640x480 with 1 Axes>"
      ]
     },
     "metadata": {},
     "output_type": "display_data"
    }
   ],
   "source": [
    "plt.plot(df1)"
   ]
  },
  {
   "cell_type": "code",
   "execution_count": 11,
   "id": "44283983",
   "metadata": {},
   "outputs": [],
   "source": [
    "# LSTM"
   ]
  },
  {
   "cell_type": "code",
   "execution_count": 12,
   "id": "dc91c8a3",
   "metadata": {},
   "outputs": [],
   "source": [
    "import numpy as np"
   ]
  },
  {
   "cell_type": "code",
   "execution_count": 13,
   "id": "a6dcbe7d",
   "metadata": {},
   "outputs": [],
   "source": [
    "from sklearn.preprocessing import MinMaxScaler\n",
    "scaler = MinMaxScaler(feature_range=(0, 1))\n",
    "df1 = scaler.fit_transform(np.array(df1).reshape(-1, 1))"
   ]
  },
  {
   "cell_type": "code",
   "execution_count": 14,
   "id": "63697e1a",
   "metadata": {},
   "outputs": [
    {
     "data": {
      "text/plain": [
       "array([[0.16105354],\n",
       "       [0.16148532],\n",
       "       [0.15414508],\n",
       "       ...,\n",
       "       [0.82081174],\n",
       "       [0.82081174],\n",
       "       [0.82081174]])"
      ]
     },
     "execution_count": 14,
     "metadata": {},
     "output_type": "execute_result"
    }
   ],
   "source": [
    "df1"
   ]
  },
  {
   "cell_type": "code",
   "execution_count": 15,
   "id": "18fd9087",
   "metadata": {},
   "outputs": [
    {
     "data": {
      "text/plain": [
       "(3695, 1)"
      ]
     },
     "execution_count": 15,
     "metadata": {},
     "output_type": "execute_result"
    }
   ],
   "source": [
    "df1.shape"
   ]
  },
  {
   "cell_type": "code",
   "execution_count": 16,
   "id": "9f797140",
   "metadata": {},
   "outputs": [],
   "source": [
    "# splitting dataset (80%)\n",
    "\n",
    "training_size = int(len(df1) * 0.80)\n",
    "test_size = len(df1) - training_size\n",
    "\n",
    "train_data, test_data = df1[0:training_size, :], df1[training_size:, :1]"
   ]
  },
  {
   "cell_type": "code",
   "execution_count": 17,
   "id": "5d9dc5c7",
   "metadata": {},
   "outputs": [
    {
     "data": {
      "text/plain": [
       "(2956, 739)"
      ]
     },
     "execution_count": 17,
     "metadata": {},
     "output_type": "execute_result"
    }
   ],
   "source": [
    "training_size, test_size"
   ]
  },
  {
   "cell_type": "code",
   "execution_count": 18,
   "id": "58cf77e7",
   "metadata": {},
   "outputs": [
    {
     "data": {
      "text/plain": [
       "(2956, 739)"
      ]
     },
     "execution_count": 18,
     "metadata": {},
     "output_type": "execute_result"
    }
   ],
   "source": [
    "len(train_data), len(test_data)"
   ]
  },
  {
   "cell_type": "code",
   "execution_count": 19,
   "id": "5f707c7b",
   "metadata": {},
   "outputs": [
    {
     "data": {
      "text/plain": [
       "array([[0.16105354],\n",
       "       [0.16148532],\n",
       "       [0.15414508],\n",
       "       ...,\n",
       "       [0.70941278],\n",
       "       [0.69300518],\n",
       "       [0.68868739]])"
      ]
     },
     "execution_count": 19,
     "metadata": {},
     "output_type": "execute_result"
    }
   ],
   "source": [
    "train_data"
   ]
  },
  {
   "cell_type": "code",
   "execution_count": 20,
   "id": "6998d864",
   "metadata": {},
   "outputs": [],
   "source": [
    "import numpy\n",
    "#convert the array values in matrix\n",
    "def create_dataset(dataset, time_step=1):\n",
    "    dataX, dataY = [], []\n",
    "    \n",
    "    for i in range(len(dataset) - time_step - 1):  \n",
    "        a = dataset[i:(i + time_step), 0]\n",
    "        dataX.append(a)\n",
    "        dataY.append(dataset[i + time_step, 0])\n",
    "        \n",
    "    return numpy.array(dataX), numpy.array(dataY)"
   ]
  },
  {
   "cell_type": "code",
   "execution_count": 21,
   "id": "dedaf378",
   "metadata": {},
   "outputs": [],
   "source": [
    "#teshape into X=t, t+1, t+2, t+3 and Y=t+4\n",
    "time_step = 100\n",
    "X_train,y_train = create_dataset(train_data,time_step)\n",
    "X_test,y_test = create_dataset(test_data,time_step)"
   ]
  },
  {
   "cell_type": "code",
   "execution_count": 22,
   "id": "d7f54579",
   "metadata": {},
   "outputs": [
    {
     "name": "stdout",
     "output_type": "stream",
     "text": [
      "[[0.16105354 0.16148532 0.15414508 ... 0.06994819 0.06303972 0.06303972]\n",
      " [0.16148532 0.15414508 0.15414508 ... 0.06303972 0.06303972 0.06174439]\n",
      " [0.15414508 0.15414508 0.15846287 ... 0.06303972 0.06174439 0.06131261]\n",
      " ...\n",
      " [0.74740933 0.74309154 0.76468048 ... 0.67659758 0.73013817 0.71329879]\n",
      " [0.74309154 0.76468048 0.78195164 ... 0.73013817 0.71329879 0.71329879]\n",
      " [0.76468048 0.78195164 0.80354059 ... 0.71329879 0.71329879 0.70941278]]\n"
     ]
    }
   ],
   "source": [
    "print(X_train)"
   ]
  },
  {
   "cell_type": "code",
   "execution_count": 23,
   "id": "1a0d6fa8",
   "metadata": {},
   "outputs": [
    {
     "name": "stdout",
     "output_type": "stream",
     "text": [
      "(638, 100)\n",
      "(638,)\n"
     ]
    },
    {
     "data": {
      "text/plain": [
       "(None, None)"
      ]
     },
     "execution_count": 23,
     "metadata": {},
     "output_type": "execute_result"
    }
   ],
   "source": [
    "print(X_test.shape),print(y_test.shape)"
   ]
  },
  {
   "cell_type": "code",
   "execution_count": 24,
   "id": "fa98b717",
   "metadata": {},
   "outputs": [
    {
     "name": "stdout",
     "output_type": "stream",
     "text": [
      "(2855, 100)\n",
      "(2855,)\n"
     ]
    },
    {
     "data": {
      "text/plain": [
       "(None, None)"
      ]
     },
     "execution_count": 24,
     "metadata": {},
     "output_type": "execute_result"
    }
   ],
   "source": [
    "print(X_train.shape),print(y_train.shape)"
   ]
  },
  {
   "cell_type": "code",
   "execution_count": 25,
   "id": "2194a013",
   "metadata": {},
   "outputs": [],
   "source": [
    "#reshape\n",
    "X_train = X_train.reshape(X_train.shape[0],X_train.shape[1], 1)\n",
    "X_test = X_test.reshape(X_test.shape[0],X_test.shape[1], 1)"
   ]
  },
  {
   "cell_type": "code",
   "execution_count": 26,
   "id": "b6565808",
   "metadata": {},
   "outputs": [
    {
     "name": "stdout",
     "output_type": "stream",
     "text": [
      "WARNING:tensorflow:From C:\\Users\\soura\\anaconda3\\Lib\\site-packages\\keras\\src\\losses.py:2976: The name tf.losses.sparse_softmax_cross_entropy is deprecated. Please use tf.compat.v1.losses.sparse_softmax_cross_entropy instead.\n",
      "\n"
     ]
    }
   ],
   "source": [
    "#Create stacked LSTM model\n",
    "from tensorflow.keras.models import Sequential\n",
    "from tensorflow.keras.layers import LSTM, Dense"
   ]
  },
  {
   "cell_type": "code",
   "execution_count": 27,
   "id": "cf0458af",
   "metadata": {},
   "outputs": [
    {
     "name": "stdout",
     "output_type": "stream",
     "text": [
      "WARNING:tensorflow:From C:\\Users\\soura\\anaconda3\\Lib\\site-packages\\keras\\src\\backend.py:873: The name tf.get_default_graph is deprecated. Please use tf.compat.v1.get_default_graph instead.\n",
      "\n",
      "WARNING:tensorflow:From C:\\Users\\soura\\anaconda3\\Lib\\site-packages\\keras\\src\\optimizers\\__init__.py:309: The name tf.train.Optimizer is deprecated. Please use tf.compat.v1.train.Optimizer instead.\n",
      "\n"
     ]
    }
   ],
   "source": [
    "model = Sequential()\n",
    "#model.add(LSTM(units=50, return_sequences=True, input_shape=(time_steps, features)))\n",
    "model.add(LSTM(units=50, return_sequences=True, input_shape=(100, 1)))\n",
    "\n",
    "# Add the second LSTM layer with return_sequences=True\n",
    "model.add(LSTM(50, return_sequences=True))\n",
    "\n",
    "# Add the third LSTM layer with return_sequences=False (last layer in the stack)\n",
    "model.add(LSTM(50))\n",
    "\n",
    "# Add a dense output layer (you can adjust the number of units based on your problem)\n",
    "model.add(Dense(1))\n",
    "\n",
    "# Compile the model\n",
    "model.compile(optimizer='adam', loss='mean_squared_error')"
   ]
  },
  {
   "cell_type": "code",
   "execution_count": 28,
   "id": "8f2de1b3",
   "metadata": {},
   "outputs": [
    {
     "name": "stdout",
     "output_type": "stream",
     "text": [
      "Model: \"sequential\"\n",
      "_________________________________________________________________\n",
      " Layer (type)                Output Shape              Param #   \n",
      "=================================================================\n",
      " lstm (LSTM)                 (None, 100, 50)           10400     \n",
      "                                                                 \n",
      " lstm_1 (LSTM)               (None, 100, 50)           20200     \n",
      "                                                                 \n",
      " lstm_2 (LSTM)               (None, 50)                20200     \n",
      "                                                                 \n",
      " dense (Dense)               (None, 1)                 51        \n",
      "                                                                 \n",
      "=================================================================\n",
      "Total params: 50851 (198.64 KB)\n",
      "Trainable params: 50851 (198.64 KB)\n",
      "Non-trainable params: 0 (0.00 Byte)\n",
      "_________________________________________________________________\n"
     ]
    }
   ],
   "source": [
    "# Print the model summary\n",
    "model.summary()"
   ]
  },
  {
   "cell_type": "code",
   "execution_count": 29,
   "id": "bc23a63e",
   "metadata": {},
   "outputs": [
    {
     "name": "stdout",
     "output_type": "stream",
     "text": [
      "Epoch 1/100\n",
      "WARNING:tensorflow:From C:\\Users\\soura\\anaconda3\\Lib\\site-packages\\keras\\src\\utils\\tf_utils.py:492: The name tf.ragged.RaggedTensorValue is deprecated. Please use tf.compat.v1.ragged.RaggedTensorValue instead.\n",
      "\n",
      "45/45 [==============================] - 7s 91ms/step - loss: 0.0246 - val_loss: 0.0011\n",
      "Epoch 2/100\n",
      "45/45 [==============================] - 3s 66ms/step - loss: 0.0037 - val_loss: 9.1180e-04\n",
      "Epoch 3/100\n",
      "45/45 [==============================] - 3s 67ms/step - loss: 0.0034 - val_loss: 7.8827e-04\n",
      "Epoch 4/100\n",
      "45/45 [==============================] - 3s 67ms/step - loss: 0.0027 - val_loss: 0.0017\n",
      "Epoch 5/100\n",
      "45/45 [==============================] - 3s 68ms/step - loss: 0.0024 - val_loss: 7.8956e-04\n",
      "Epoch 6/100\n",
      "45/45 [==============================] - 3s 69ms/step - loss: 0.0023 - val_loss: 6.9148e-04\n",
      "Epoch 7/100\n",
      "45/45 [==============================] - 3s 61ms/step - loss: 0.0022 - val_loss: 9.7672e-04\n",
      "Epoch 8/100\n",
      "45/45 [==============================] - 3s 58ms/step - loss: 0.0021 - val_loss: 9.5506e-04\n",
      "Epoch 9/100\n",
      "45/45 [==============================] - 2s 54ms/step - loss: 0.0019 - val_loss: 4.9515e-04\n",
      "Epoch 10/100\n",
      "45/45 [==============================] - 2s 53ms/step - loss: 0.0018 - val_loss: 8.7736e-04\n",
      "Epoch 11/100\n",
      "45/45 [==============================] - 2s 54ms/step - loss: 0.0018 - val_loss: 8.1655e-04\n",
      "Epoch 12/100\n",
      "45/45 [==============================] - 3s 70ms/step - loss: 0.0018 - val_loss: 5.8386e-04\n",
      "Epoch 13/100\n",
      "45/45 [==============================] - 3s 68ms/step - loss: 0.0016 - val_loss: 4.1892e-04\n",
      "Epoch 14/100\n",
      "45/45 [==============================] - 3s 61ms/step - loss: 0.0014 - val_loss: 0.0014\n",
      "Epoch 15/100\n",
      "45/45 [==============================] - 3s 69ms/step - loss: 0.0014 - val_loss: 3.6716e-04\n",
      "Epoch 16/100\n",
      "45/45 [==============================] - 3s 71ms/step - loss: 0.0013 - val_loss: 9.0112e-04\n",
      "Epoch 17/100\n",
      "45/45 [==============================] - 3s 74ms/step - loss: 0.0013 - val_loss: 4.5130e-04\n",
      "Epoch 18/100\n",
      "45/45 [==============================] - 3s 70ms/step - loss: 0.0012 - val_loss: 0.0014\n",
      "Epoch 19/100\n",
      "45/45 [==============================] - 3s 69ms/step - loss: 0.0011 - val_loss: 4.6447e-04\n",
      "Epoch 20/100\n",
      "45/45 [==============================] - 3s 70ms/step - loss: 0.0011 - val_loss: 2.5186e-04\n",
      "Epoch 21/100\n",
      "45/45 [==============================] - 3s 72ms/step - loss: 0.0011 - val_loss: 4.5461e-04\n",
      "Epoch 22/100\n",
      "45/45 [==============================] - 3s 67ms/step - loss: 9.3133e-04 - val_loss: 2.1173e-04\n",
      "Epoch 23/100\n",
      "45/45 [==============================] - 3s 67ms/step - loss: 9.5630e-04 - val_loss: 4.2030e-04\n",
      "Epoch 24/100\n",
      "45/45 [==============================] - 3s 64ms/step - loss: 9.6688e-04 - val_loss: 2.4693e-04\n",
      "Epoch 25/100\n",
      "45/45 [==============================] - 3s 67ms/step - loss: 9.1519e-04 - val_loss: 2.1616e-04\n",
      "Epoch 26/100\n",
      "45/45 [==============================] - 3s 64ms/step - loss: 8.1339e-04 - val_loss: 2.5883e-04\n",
      "Epoch 27/100\n",
      "45/45 [==============================] - 3s 65ms/step - loss: 8.0135e-04 - val_loss: 1.8143e-04\n",
      "Epoch 28/100\n",
      "45/45 [==============================] - 3s 69ms/step - loss: 8.8605e-04 - val_loss: 1.8220e-04\n",
      "Epoch 29/100\n",
      "45/45 [==============================] - 3s 67ms/step - loss: 7.8487e-04 - val_loss: 6.3078e-04\n",
      "Epoch 30/100\n",
      "45/45 [==============================] - 3s 67ms/step - loss: 7.8275e-04 - val_loss: 3.7345e-04\n",
      "Epoch 31/100\n",
      "45/45 [==============================] - 3s 68ms/step - loss: 7.8196e-04 - val_loss: 1.7317e-04\n",
      "Epoch 32/100\n",
      "45/45 [==============================] - 3s 68ms/step - loss: 6.9509e-04 - val_loss: 3.2234e-04\n",
      "Epoch 33/100\n",
      "45/45 [==============================] - 3s 69ms/step - loss: 7.1658e-04 - val_loss: 1.9115e-04\n",
      "Epoch 34/100\n",
      "45/45 [==============================] - 3s 67ms/step - loss: 7.1803e-04 - val_loss: 1.7187e-04\n",
      "Epoch 35/100\n",
      "45/45 [==============================] - 3s 67ms/step - loss: 6.7004e-04 - val_loss: 5.6937e-04\n",
      "Epoch 36/100\n",
      "45/45 [==============================] - 3s 65ms/step - loss: 6.7636e-04 - val_loss: 1.5948e-04\n",
      "Epoch 37/100\n",
      "45/45 [==============================] - 3s 66ms/step - loss: 7.4315e-04 - val_loss: 5.4155e-04\n",
      "Epoch 38/100\n",
      "45/45 [==============================] - 3s 66ms/step - loss: 7.2533e-04 - val_loss: 2.9679e-04\n",
      "Epoch 39/100\n",
      "45/45 [==============================] - 3s 69ms/step - loss: 6.9230e-04 - val_loss: 2.2261e-04\n",
      "Epoch 40/100\n",
      "45/45 [==============================] - 3s 68ms/step - loss: 7.0719e-04 - val_loss: 1.6070e-04\n",
      "Epoch 41/100\n",
      "45/45 [==============================] - 3s 64ms/step - loss: 7.8037e-04 - val_loss: 1.5897e-04\n",
      "Epoch 42/100\n",
      "45/45 [==============================] - 3s 68ms/step - loss: 6.3795e-04 - val_loss: 2.1196e-04\n",
      "Epoch 43/100\n",
      "45/45 [==============================] - 3s 67ms/step - loss: 6.3170e-04 - val_loss: 2.4552e-04\n",
      "Epoch 44/100\n",
      "45/45 [==============================] - 3s 69ms/step - loss: 6.3631e-04 - val_loss: 4.0696e-04\n",
      "Epoch 45/100\n",
      "45/45 [==============================] - 3s 68ms/step - loss: 6.5591e-04 - val_loss: 1.6025e-04\n",
      "Epoch 46/100\n",
      "45/45 [==============================] - 3s 69ms/step - loss: 6.5991e-04 - val_loss: 1.5746e-04\n",
      "Epoch 47/100\n",
      "45/45 [==============================] - 3s 68ms/step - loss: 6.5380e-04 - val_loss: 1.6115e-04\n",
      "Epoch 48/100\n",
      "45/45 [==============================] - 3s 66ms/step - loss: 6.3502e-04 - val_loss: 2.7669e-04\n",
      "Epoch 49/100\n",
      "45/45 [==============================] - 3s 68ms/step - loss: 6.5762e-04 - val_loss: 2.3656e-04\n",
      "Epoch 50/100\n",
      "45/45 [==============================] - 3s 66ms/step - loss: 7.2844e-04 - val_loss: 1.6367e-04\n",
      "Epoch 51/100\n",
      "45/45 [==============================] - 3s 66ms/step - loss: 6.8786e-04 - val_loss: 1.5878e-04\n",
      "Epoch 52/100\n",
      "45/45 [==============================] - 3s 67ms/step - loss: 6.9430e-04 - val_loss: 1.7581e-04\n",
      "Epoch 53/100\n",
      "45/45 [==============================] - 3s 69ms/step - loss: 7.0616e-04 - val_loss: 3.4480e-04\n",
      "Epoch 54/100\n",
      "45/45 [==============================] - 3s 72ms/step - loss: 6.8931e-04 - val_loss: 2.0193e-04\n",
      "Epoch 55/100\n",
      "45/45 [==============================] - 3s 69ms/step - loss: 6.2936e-04 - val_loss: 1.5653e-04\n",
      "Epoch 56/100\n",
      "45/45 [==============================] - 3s 63ms/step - loss: 6.1374e-04 - val_loss: 1.5681e-04\n",
      "Epoch 57/100\n",
      "45/45 [==============================] - 3s 63ms/step - loss: 6.0637e-04 - val_loss: 2.2391e-04\n",
      "Epoch 58/100\n",
      "45/45 [==============================] - 3s 63ms/step - loss: 6.2749e-04 - val_loss: 9.1520e-04\n",
      "Epoch 59/100\n",
      "45/45 [==============================] - 3s 64ms/step - loss: 6.1428e-04 - val_loss: 6.0139e-04\n",
      "Epoch 60/100\n",
      "45/45 [==============================] - 3s 64ms/step - loss: 6.5133e-04 - val_loss: 1.6905e-04\n",
      "Epoch 61/100\n",
      "45/45 [==============================] - 3s 64ms/step - loss: 6.1340e-04 - val_loss: 2.3084e-04\n",
      "Epoch 62/100\n",
      "45/45 [==============================] - 3s 66ms/step - loss: 6.3387e-04 - val_loss: 1.5920e-04\n",
      "Epoch 63/100\n",
      "45/45 [==============================] - 3s 65ms/step - loss: 6.5394e-04 - val_loss: 2.2102e-04\n",
      "Epoch 64/100\n",
      "45/45 [==============================] - 3s 65ms/step - loss: 5.9342e-04 - val_loss: 1.6259e-04\n",
      "Epoch 65/100\n",
      "45/45 [==============================] - 3s 73ms/step - loss: 5.9280e-04 - val_loss: 3.2683e-04\n",
      "Epoch 66/100\n",
      "45/45 [==============================] - 3s 61ms/step - loss: 5.9462e-04 - val_loss: 3.0063e-04\n",
      "Epoch 67/100\n",
      "45/45 [==============================] - 3s 63ms/step - loss: 6.3187e-04 - val_loss: 3.9231e-04\n",
      "Epoch 68/100\n",
      "45/45 [==============================] - 3s 64ms/step - loss: 5.8356e-04 - val_loss: 1.6912e-04\n",
      "Epoch 69/100\n",
      "45/45 [==============================] - 3s 66ms/step - loss: 5.9176e-04 - val_loss: 0.0021\n",
      "Epoch 70/100\n",
      "45/45 [==============================] - 3s 65ms/step - loss: 6.6855e-04 - val_loss: 3.8576e-04\n",
      "Epoch 71/100\n",
      "45/45 [==============================] - 3s 67ms/step - loss: 6.1346e-04 - val_loss: 1.5731e-04\n",
      "Epoch 72/100\n",
      "45/45 [==============================] - 3s 63ms/step - loss: 5.8245e-04 - val_loss: 0.0017\n",
      "Epoch 73/100\n",
      "45/45 [==============================] - 3s 65ms/step - loss: 6.9606e-04 - val_loss: 1.7100e-04\n",
      "Epoch 74/100\n",
      "45/45 [==============================] - 3s 67ms/step - loss: 6.4023e-04 - val_loss: 4.1157e-04\n",
      "Epoch 75/100\n"
     ]
    },
    {
     "name": "stdout",
     "output_type": "stream",
     "text": [
      "45/45 [==============================] - 3s 68ms/step - loss: 6.0728e-04 - val_loss: 1.6873e-04\n",
      "Epoch 76/100\n",
      "45/45 [==============================] - 3s 70ms/step - loss: 6.3134e-04 - val_loss: 1.9167e-04\n",
      "Epoch 77/100\n",
      "45/45 [==============================] - 3s 67ms/step - loss: 5.8825e-04 - val_loss: 2.1868e-04\n",
      "Epoch 78/100\n",
      "45/45 [==============================] - 3s 67ms/step - loss: 5.8339e-04 - val_loss: 5.0586e-04\n",
      "Epoch 79/100\n",
      "45/45 [==============================] - 3s 67ms/step - loss: 6.2079e-04 - val_loss: 2.2889e-04\n",
      "Epoch 80/100\n",
      "45/45 [==============================] - 3s 68ms/step - loss: 5.8468e-04 - val_loss: 3.0460e-04\n",
      "Epoch 81/100\n",
      "45/45 [==============================] - 3s 70ms/step - loss: 6.5468e-04 - val_loss: 4.6589e-04\n",
      "Epoch 82/100\n",
      "45/45 [==============================] - 3s 69ms/step - loss: 5.9183e-04 - val_loss: 2.6269e-04\n",
      "Epoch 83/100\n",
      "45/45 [==============================] - 3s 67ms/step - loss: 6.2013e-04 - val_loss: 1.6974e-04\n",
      "Epoch 84/100\n",
      "45/45 [==============================] - 3s 68ms/step - loss: 5.8505e-04 - val_loss: 3.6246e-04\n",
      "Epoch 85/100\n",
      "45/45 [==============================] - 3s 67ms/step - loss: 5.9974e-04 - val_loss: 1.7254e-04\n",
      "Epoch 86/100\n",
      "45/45 [==============================] - 3s 65ms/step - loss: 7.2458e-04 - val_loss: 6.9600e-04\n",
      "Epoch 87/100\n",
      "45/45 [==============================] - 3s 70ms/step - loss: 6.4670e-04 - val_loss: 1.8048e-04\n",
      "Epoch 88/100\n",
      "45/45 [==============================] - 3s 63ms/step - loss: 5.9597e-04 - val_loss: 4.0068e-04\n",
      "Epoch 89/100\n",
      "45/45 [==============================] - 3s 63ms/step - loss: 5.9754e-04 - val_loss: 1.5952e-04\n",
      "Epoch 90/100\n",
      "45/45 [==============================] - 3s 64ms/step - loss: 5.8810e-04 - val_loss: 1.7769e-04\n",
      "Epoch 91/100\n",
      "45/45 [==============================] - 3s 67ms/step - loss: 5.9637e-04 - val_loss: 1.8135e-04\n",
      "Epoch 92/100\n",
      "45/45 [==============================] - 3s 66ms/step - loss: 6.3100e-04 - val_loss: 2.7183e-04\n",
      "Epoch 93/100\n",
      "45/45 [==============================] - 3s 64ms/step - loss: 6.0403e-04 - val_loss: 2.5937e-04\n",
      "Epoch 94/100\n",
      "45/45 [==============================] - 3s 63ms/step - loss: 6.1467e-04 - val_loss: 5.8360e-04\n",
      "Epoch 95/100\n",
      "45/45 [==============================] - 3s 66ms/step - loss: 6.1907e-04 - val_loss: 2.3493e-04\n",
      "Epoch 96/100\n",
      "45/45 [==============================] - 3s 68ms/step - loss: 6.3428e-04 - val_loss: 3.5054e-04\n",
      "Epoch 97/100\n",
      "45/45 [==============================] - 3s 66ms/step - loss: 5.8135e-04 - val_loss: 1.7692e-04\n",
      "Epoch 98/100\n",
      "45/45 [==============================] - 3s 65ms/step - loss: 5.8098e-04 - val_loss: 3.8441e-04\n",
      "Epoch 99/100\n",
      "45/45 [==============================] - 3s 69ms/step - loss: 5.9302e-04 - val_loss: 2.3172e-04\n",
      "Epoch 100/100\n",
      "45/45 [==============================] - 3s 72ms/step - loss: 6.4978e-04 - val_loss: 1.8521e-04\n"
     ]
    },
    {
     "data": {
      "text/plain": [
       "<keras.src.callbacks.History at 0x2167faaeb50>"
      ]
     },
     "execution_count": 29,
     "metadata": {},
     "output_type": "execute_result"
    }
   ],
   "source": [
    "# Train the model\n",
    "model.fit(X_train, y_train, validation_data=(X_test, y_test), epochs=100, batch_size=64, verbose=1)"
   ]
  },
  {
   "cell_type": "code",
   "execution_count": 30,
   "id": "2ce37af0",
   "metadata": {},
   "outputs": [
    {
     "name": "stdout",
     "output_type": "stream",
     "text": [
      "2.15.0\n"
     ]
    }
   ],
   "source": [
    "import tensorflow as tf\n",
    "\n",
    "print(tf.__version__)"
   ]
  },
  {
   "cell_type": "code",
   "execution_count": 31,
   "id": "fd984d61",
   "metadata": {},
   "outputs": [
    {
     "name": "stdout",
     "output_type": "stream",
     "text": [
      "90/90 [==============================] - 2s 17ms/step\n",
      "20/20 [==============================] - 0s 17ms/step\n"
     ]
    }
   ],
   "source": [
    "# checking prediction for the performance matrics\n",
    "train_predict=model.predict(X_train)\n",
    "test_predict=model.predict(X_test)"
   ]
  },
  {
   "cell_type": "code",
   "execution_count": 32,
   "id": "75b45891",
   "metadata": {},
   "outputs": [],
   "source": [
    "# transfromback to orginal form\n",
    "train_predict = scaler.inverse_transform(train_predict)\n",
    "test_predict = scaler.inverse_transform(test_predict)"
   ]
  },
  {
   "cell_type": "code",
   "execution_count": 33,
   "id": "b7b77f59",
   "metadata": {},
   "outputs": [],
   "source": [
    "# Calculate Root Mean Squared Error (RMSE)\n",
    "import math\n",
    "from sklearn.metrics import mean_squared_error\n",
    "mse = mean_squared_error(y_train, train_predict)\n",
    "rmse = math.sqrt(mse)"
   ]
  },
  {
   "cell_type": "code",
   "execution_count": 34,
   "id": "48bb5061",
   "metadata": {},
   "outputs": [
    {
     "name": "stdout",
     "output_type": "stream",
     "text": [
      "Mean Squared Error: 139.24025032507012\n",
      "Root Mean Squared Error: 11.80001060698973\n"
     ]
    }
   ],
   "source": [
    "print(\"Mean Squared Error:\", mse)\n",
    "print(\"Root Mean Squared Error:\", rmse)"
   ]
  },
  {
   "cell_type": "code",
   "execution_count": 35,
   "id": "59594018",
   "metadata": {},
   "outputs": [
    {
     "name": "stdout",
     "output_type": "stream",
     "text": [
      "Mean Squared Error: 336.56203306478284\n",
      "Root Mean Squared Error: 18.345627082898606\n"
     ]
    }
   ],
   "source": [
    "# test data\n",
    "mse = mean_squared_error(y_test, test_predict)\n",
    "rmse = math.sqrt(mse)\n",
    "\n",
    "print(\"Mean Squared Error:\", mse)\n",
    "print(\"Root Mean Squared Error:\", rmse)"
   ]
  },
  {
   "cell_type": "code",
   "execution_count": 36,
   "id": "538d824e",
   "metadata": {},
   "outputs": [
    {
     "data": {
      "image/png": "[encoded data removed]",
      "text/plain": [
       "<Figure size 640x480 with 1 Axes>"
      ]
     },
     "metadata": {},
     "output_type": "display_data"
    }
   ],
   "source": [
    "### Plotting \n",
    "# shift train predictions for plotting\n",
    "look_back=100\n",
    "trainPredictPlot = numpy.empty_like(df1)\n",
    "trainPredictPlot[:, :] = np.nan\n",
    "trainPredictPlot[look_back:len(train_predict)+look_back, :] = train_predict\n",
    "# shift test predictions for plotting\n",
    "testPredictPlot = numpy.empty_like(df1)\n",
    "testPredictPlot[:, :] = numpy.nan\n",
    "testPredictPlot[len(train_predict)+(look_back*2)+1:len(df1)-1, :] = test_predict\n",
    "# plot baseline and predictions\n",
    "plt.plot(scaler.inverse_transform(df1))\n",
    "plt.plot(trainPredictPlot)\n",
    "plt.plot(testPredictPlot)\n",
    "plt.show()"
   ]
  },
  {
   "cell_type": "code",
   "execution_count": 37,
   "id": "e87364aa",
   "metadata": {},
   "outputs": [
    {
     "data": {
      "text/plain": [
       "739"
      ]
     },
     "execution_count": 37,
     "metadata": {},
     "output_type": "execute_result"
    }
   ],
   "source": [
    "len(test_data)"
   ]
  },
  {
   "cell_type": "code",
   "execution_count": 38,
   "id": "b8c541db",
   "metadata": {},
   "outputs": [
    {
     "data": {
      "text/plain": [
       "(1, 100)"
      ]
     },
     "execution_count": 38,
     "metadata": {},
     "output_type": "execute_result"
    }
   ],
   "source": [
    "x_input=test_data[639:].reshape(1,-1)\n",
    "x_input.shape"
   ]
  },
  {
   "cell_type": "code",
   "execution_count": 39,
   "id": "85f75a0d",
   "metadata": {},
   "outputs": [],
   "source": [
    "temp_input=list(x_input)\n",
    "temp_input=temp_input[0].tolist()"
   ]
  },
  {
   "cell_type": "code",
   "execution_count": 40,
   "id": "b3e7a5bb",
   "metadata": {},
   "outputs": [
    {
     "data": {
      "text/plain": [
       "[0.8208117443868739,\n",
       " 0.8208117443868739,\n",
       " 0.8208117443868739,\n",
       " 0.8208117443868739,\n",
       " 0.8208117443868739,\n",
       " 0.8208117443868739,\n",
       " 0.8208117443868739,\n",
       " 0.8208117443868739,\n",
       " 0.8208117443868739,\n",
       " 0.8208117443868739,\n",
       " 0.8208117443868739,\n",
       " 0.8208117443868739,\n",
       " 0.8208117443868739,\n",
       " 0.8208117443868739,\n",
       " 0.8208117443868739,\n",
       " 0.8208117443868739,\n",
       " 0.8208117443868739,\n",
       " 0.8208117443868739,\n",
       " 0.8208117443868739,\n",
       " 0.8208117443868739,\n",
       " 0.8208117443868739,\n",
       " 0.8208117443868739,\n",
       " 0.8208117443868739,\n",
       " 0.8208117443868739,\n",
       " 0.8208117443868739,\n",
       " 0.8208117443868739,\n",
       " 0.8208117443868739,\n",
       " 0.8208117443868739,\n",
       " 0.8208117443868739,\n",
       " 0.8208117443868739,\n",
       " 0.8208117443868739,\n",
       " 0.8208117443868739,\n",
       " 0.8208117443868739,\n",
       " 0.8208117443868739,\n",
       " 0.8208117443868739,\n",
       " 0.8208117443868739,\n",
       " 0.8208117443868739,\n",
       " 0.8208117443868739,\n",
       " 0.8208117443868739,\n",
       " 0.8208117443868739,\n",
       " 0.8208117443868739,\n",
       " 0.8208117443868739,\n",
       " 0.8208117443868739,\n",
       " 0.8208117443868739,\n",
       " 0.8208117443868739,\n",
       " 0.8208117443868739,\n",
       " 0.8208117443868739,\n",
       " 0.8208117443868739,\n",
       " 0.8208117443868739,\n",
       " 0.8208117443868739,\n",
       " 0.8208117443868739,\n",
       " 0.8208117443868739,\n",
       " 0.8208117443868739,\n",
       " 0.8208117443868739,\n",
       " 0.8208117443868739,\n",
       " 0.8251295336787565,\n",
       " 0.829447322970639,\n",
       " 0.8251295336787565,\n",
       " 0.829447322970639,\n",
       " 0.8208117443868739,\n",
       " 0.8251295336787565,\n",
       " 0.8337651122625216,\n",
       " 0.8380829015544041,\n",
       " 0.829447322970639,\n",
       " 0.829447322970639,\n",
       " 0.8380829015544041,\n",
       " 0.8208117443868739,\n",
       " 0.8208117443868739,\n",
       " 0.8208117443868739,\n",
       " 0.8208117443868739,\n",
       " 0.8208117443868739,\n",
       " 0.8380829015544041,\n",
       " 0.8251295336787565,\n",
       " 0.8208117443868739,\n",
       " 0.8208117443868739,\n",
       " 0.8208117443868739,\n",
       " 0.8208117443868739,\n",
       " 0.8208117443868739,\n",
       " 0.8208117443868739,\n",
       " 0.8208117443868739,\n",
       " 0.8208117443868739,\n",
       " 0.8208117443868739,\n",
       " 0.8208117443868739,\n",
       " 0.8208117443868739,\n",
       " 0.8208117443868739,\n",
       " 0.8208117443868739,\n",
       " 0.8208117443868739,\n",
       " 0.8208117443868739,\n",
       " 0.8208117443868739,\n",
       " 0.8208117443868739,\n",
       " 0.8208117443868739,\n",
       " 0.8208117443868739,\n",
       " 0.8208117443868739,\n",
       " 0.8208117443868739,\n",
       " 0.8208117443868739,\n",
       " 0.8208117443868739,\n",
       " 0.8208117443868739,\n",
       " 0.8208117443868739,\n",
       " 0.8208117443868739,\n",
       " 0.8208117443868739]"
      ]
     },
     "execution_count": 40,
     "metadata": {},
     "output_type": "execute_result"
    }
   ],
   "source": [
    "temp_input"
   ]
  },
  {
   "cell_type": "code",
   "execution_count": 41,
   "id": "bb591d6c",
   "metadata": {},
   "outputs": [
    {
     "name": "stdout",
     "output_type": "stream",
     "text": [
      "[0.8137602]\n",
      "101\n",
      "1 day input [0.82081174 0.82081174 0.82081174 0.82081174 0.82081174 0.82081174\n",
      " 0.82081174 0.82081174 0.82081174 0.82081174 0.82081174 0.82081174\n",
      " 0.82081174 0.82081174 0.82081174 0.82081174 0.82081174 0.82081174\n",
      " 0.82081174 0.82081174 0.82081174 0.82081174 0.82081174 0.82081174\n",
      " 0.82081174 0.82081174 0.82081174 0.82081174 0.82081174 0.82081174\n",
      " 0.82081174 0.82081174 0.82081174 0.82081174 0.82081174 0.82081174\n",
      " 0.82081174 0.82081174 0.82081174 0.82081174 0.82081174 0.82081174\n",
      " 0.82081174 0.82081174 0.82081174 0.82081174 0.82081174 0.82081174\n",
      " 0.82081174 0.82081174 0.82081174 0.82081174 0.82081174 0.82081174\n",
      " 0.82512953 0.82944732 0.82512953 0.82944732 0.82081174 0.82512953\n",
      " 0.83376511 0.8380829  0.82944732 0.82944732 0.8380829  0.82081174\n",
      " 0.82081174 0.82081174 0.82081174 0.82081174 0.8380829  0.82512953\n",
      " 0.82081174 0.82081174 0.82081174 0.82081174 0.82081174 0.82081174\n",
      " 0.82081174 0.82081174 0.82081174 0.82081174 0.82081174 0.82081174\n",
      " 0.82081174 0.82081174 0.82081174 0.82081174 0.82081174 0.82081174\n",
      " 0.82081174 0.82081174 0.82081174 0.82081174 0.82081174 0.82081174\n",
      " 0.82081174 0.82081174 0.82081174 0.81376022]\n",
      "1 day output [[0.8070816]]\n",
      "2 day input [0.82081174 0.82081174 0.82081174 0.82081174 0.82081174 0.82081174\n",
      " 0.82081174 0.82081174 0.82081174 0.82081174 0.82081174 0.82081174\n",
      " 0.82081174 0.82081174 0.82081174 0.82081174 0.82081174 0.82081174\n",
      " 0.82081174 0.82081174 0.82081174 0.82081174 0.82081174 0.82081174\n",
      " 0.82081174 0.82081174 0.82081174 0.82081174 0.82081174 0.82081174\n",
      " 0.82081174 0.82081174 0.82081174 0.82081174 0.82081174 0.82081174\n",
      " 0.82081174 0.82081174 0.82081174 0.82081174 0.82081174 0.82081174\n",
      " 0.82081174 0.82081174 0.82081174 0.82081174 0.82081174 0.82081174\n",
      " 0.82081174 0.82081174 0.82081174 0.82081174 0.82081174 0.82512953\n",
      " 0.82944732 0.82512953 0.82944732 0.82081174 0.82512953 0.83376511\n",
      " 0.8380829  0.82944732 0.82944732 0.8380829  0.82081174 0.82081174\n",
      " 0.82081174 0.82081174 0.82081174 0.8380829  0.82512953 0.82081174\n",
      " 0.82081174 0.82081174 0.82081174 0.82081174 0.82081174 0.82081174\n",
      " 0.82081174 0.82081174 0.82081174 0.82081174 0.82081174 0.82081174\n",
      " 0.82081174 0.82081174 0.82081174 0.82081174 0.82081174 0.82081174\n",
      " 0.82081174 0.82081174 0.82081174 0.82081174 0.82081174 0.82081174\n",
      " 0.82081174 0.82081174 0.81376022 0.80708158]\n",
      "2 day output [[0.8017666]]\n",
      "3 day input [0.82081174 0.82081174 0.82081174 0.82081174 0.82081174 0.82081174\n",
      " 0.82081174 0.82081174 0.82081174 0.82081174 0.82081174 0.82081174\n",
      " 0.82081174 0.82081174 0.82081174 0.82081174 0.82081174 0.82081174\n",
      " 0.82081174 0.82081174 0.82081174 0.82081174 0.82081174 0.82081174\n",
      " 0.82081174 0.82081174 0.82081174 0.82081174 0.82081174 0.82081174\n",
      " 0.82081174 0.82081174 0.82081174 0.82081174 0.82081174 0.82081174\n",
      " 0.82081174 0.82081174 0.82081174 0.82081174 0.82081174 0.82081174\n",
      " 0.82081174 0.82081174 0.82081174 0.82081174 0.82081174 0.82081174\n",
      " 0.82081174 0.82081174 0.82081174 0.82081174 0.82512953 0.82944732\n",
      " 0.82512953 0.82944732 0.82081174 0.82512953 0.83376511 0.8380829\n",
      " 0.82944732 0.82944732 0.8380829  0.82081174 0.82081174 0.82081174\n",
      " 0.82081174 0.82081174 0.8380829  0.82512953 0.82081174 0.82081174\n",
      " 0.82081174 0.82081174 0.82081174 0.82081174 0.82081174 0.82081174\n",
      " 0.82081174 0.82081174 0.82081174 0.82081174 0.82081174 0.82081174\n",
      " 0.82081174 0.82081174 0.82081174 0.82081174 0.82081174 0.82081174\n",
      " 0.82081174 0.82081174 0.82081174 0.82081174 0.82081174 0.82081174\n",
      " 0.82081174 0.81376022 0.80708158 0.80176657]\n",
      "3 day output [[0.7966562]]\n",
      "4 day input [0.82081174 0.82081174 0.82081174 0.82081174 0.82081174 0.82081174\n",
      " 0.82081174 0.82081174 0.82081174 0.82081174 0.82081174 0.82081174\n",
      " 0.82081174 0.82081174 0.82081174 0.82081174 0.82081174 0.82081174\n",
      " 0.82081174 0.82081174 0.82081174 0.82081174 0.82081174 0.82081174\n",
      " 0.82081174 0.82081174 0.82081174 0.82081174 0.82081174 0.82081174\n",
      " 0.82081174 0.82081174 0.82081174 0.82081174 0.82081174 0.82081174\n",
      " 0.82081174 0.82081174 0.82081174 0.82081174 0.82081174 0.82081174\n",
      " 0.82081174 0.82081174 0.82081174 0.82081174 0.82081174 0.82081174\n",
      " 0.82081174 0.82081174 0.82081174 0.82512953 0.82944732 0.82512953\n",
      " 0.82944732 0.82081174 0.82512953 0.83376511 0.8380829  0.82944732\n",
      " 0.82944732 0.8380829  0.82081174 0.82081174 0.82081174 0.82081174\n",
      " 0.82081174 0.8380829  0.82512953 0.82081174 0.82081174 0.82081174\n",
      " 0.82081174 0.82081174 0.82081174 0.82081174 0.82081174 0.82081174\n",
      " 0.82081174 0.82081174 0.82081174 0.82081174 0.82081174 0.82081174\n",
      " 0.82081174 0.82081174 0.82081174 0.82081174 0.82081174 0.82081174\n",
      " 0.82081174 0.82081174 0.82081174 0.82081174 0.82081174 0.82081174\n",
      " 0.81376022 0.80708158 0.80176657 0.79665619]\n",
      "4 day output [[0.7920855]]\n",
      "5 day input [0.82081174 0.82081174 0.82081174 0.82081174 0.82081174 0.82081174\n",
      " 0.82081174 0.82081174 0.82081174 0.82081174 0.82081174 0.82081174\n",
      " 0.82081174 0.82081174 0.82081174 0.82081174 0.82081174 0.82081174\n",
      " 0.82081174 0.82081174 0.82081174 0.82081174 0.82081174 0.82081174\n",
      " 0.82081174 0.82081174 0.82081174 0.82081174 0.82081174 0.82081174\n",
      " 0.82081174 0.82081174 0.82081174 0.82081174 0.82081174 0.82081174\n",
      " 0.82081174 0.82081174 0.82081174 0.82081174 0.82081174 0.82081174\n",
      " 0.82081174 0.82081174 0.82081174 0.82081174 0.82081174 0.82081174\n",
      " 0.82081174 0.82081174 0.82512953 0.82944732 0.82512953 0.82944732\n",
      " 0.82081174 0.82512953 0.83376511 0.8380829  0.82944732 0.82944732\n",
      " 0.8380829  0.82081174 0.82081174 0.82081174 0.82081174 0.82081174\n",
      " 0.8380829  0.82512953 0.82081174 0.82081174 0.82081174 0.82081174\n",
      " 0.82081174 0.82081174 0.82081174 0.82081174 0.82081174 0.82081174\n",
      " 0.82081174 0.82081174 0.82081174 0.82081174 0.82081174 0.82081174\n",
      " 0.82081174 0.82081174 0.82081174 0.82081174 0.82081174 0.82081174\n",
      " 0.82081174 0.82081174 0.82081174 0.82081174 0.82081174 0.81376022\n",
      " 0.80708158 0.80176657 0.79665619 0.79208553]\n",
      "5 day output [[0.78783065]]\n",
      "6 day input [0.82081174 0.82081174 0.82081174 0.82081174 0.82081174 0.82081174\n",
      " 0.82081174 0.82081174 0.82081174 0.82081174 0.82081174 0.82081174\n",
      " 0.82081174 0.82081174 0.82081174 0.82081174 0.82081174 0.82081174\n",
      " 0.82081174 0.82081174 0.82081174 0.82081174 0.82081174 0.82081174\n",
      " 0.82081174 0.82081174 0.82081174 0.82081174 0.82081174 0.82081174\n",
      " 0.82081174 0.82081174 0.82081174 0.82081174 0.82081174 0.82081174\n",
      " 0.82081174 0.82081174 0.82081174 0.82081174 0.82081174 0.82081174\n",
      " 0.82081174 0.82081174 0.82081174 0.82081174 0.82081174 0.82081174\n",
      " 0.82081174 0.82512953 0.82944732 0.82512953 0.82944732 0.82081174\n",
      " 0.82512953 0.83376511 0.8380829  0.82944732 0.82944732 0.8380829\n",
      " 0.82081174 0.82081174 0.82081174 0.82081174 0.82081174 0.8380829\n",
      " 0.82512953 0.82081174 0.82081174 0.82081174 0.82081174 0.82081174\n",
      " 0.82081174 0.82081174 0.82081174 0.82081174 0.82081174 0.82081174\n",
      " 0.82081174 0.82081174 0.82081174 0.82081174 0.82081174 0.82081174\n",
      " 0.82081174 0.82081174 0.82081174 0.82081174 0.82081174 0.82081174\n",
      " 0.82081174 0.82081174 0.82081174 0.82081174 0.81376022 0.80708158\n",
      " 0.80176657 0.79665619 0.79208553 0.78783065]\n",
      "6 day output [[0.78380406]]\n",
      "7 day input [0.82081174 0.82081174 0.82081174 0.82081174 0.82081174 0.82081174\n",
      " 0.82081174 0.82081174 0.82081174 0.82081174 0.82081174 0.82081174\n",
      " 0.82081174 0.82081174 0.82081174 0.82081174 0.82081174 0.82081174\n",
      " 0.82081174 0.82081174 0.82081174 0.82081174 0.82081174 0.82081174\n",
      " 0.82081174 0.82081174 0.82081174 0.82081174 0.82081174 0.82081174\n",
      " 0.82081174 0.82081174 0.82081174 0.82081174 0.82081174 0.82081174\n",
      " 0.82081174 0.82081174 0.82081174 0.82081174 0.82081174 0.82081174\n",
      " 0.82081174 0.82081174 0.82081174 0.82081174 0.82081174 0.82081174\n",
      " 0.82512953 0.82944732 0.82512953 0.82944732 0.82081174 0.82512953\n",
      " 0.83376511 0.8380829  0.82944732 0.82944732 0.8380829  0.82081174\n",
      " 0.82081174 0.82081174 0.82081174 0.82081174 0.8380829  0.82512953\n",
      " 0.82081174 0.82081174 0.82081174 0.82081174 0.82081174 0.82081174\n",
      " 0.82081174 0.82081174 0.82081174 0.82081174 0.82081174 0.82081174\n",
      " 0.82081174 0.82081174 0.82081174 0.82081174 0.82081174 0.82081174\n",
      " 0.82081174 0.82081174 0.82081174 0.82081174 0.82081174 0.82081174\n",
      " 0.82081174 0.82081174 0.82081174 0.81376022 0.80708158 0.80176657\n",
      " 0.79665619 0.79208553 0.78783065 0.78380406]\n",
      "7 day output [[0.7799037]]\n",
      "8 day input [0.82081174 0.82081174 0.82081174 0.82081174 0.82081174 0.82081174\n",
      " 0.82081174 0.82081174 0.82081174 0.82081174 0.82081174 0.82081174\n",
      " 0.82081174 0.82081174 0.82081174 0.82081174 0.82081174 0.82081174\n",
      " 0.82081174 0.82081174 0.82081174 0.82081174 0.82081174 0.82081174\n",
      " 0.82081174 0.82081174 0.82081174 0.82081174 0.82081174 0.82081174\n",
      " 0.82081174 0.82081174 0.82081174 0.82081174 0.82081174 0.82081174\n",
      " 0.82081174 0.82081174 0.82081174 0.82081174 0.82081174 0.82081174\n",
      " 0.82081174 0.82081174 0.82081174 0.82081174 0.82081174 0.82512953\n",
      " 0.82944732 0.82512953 0.82944732 0.82081174 0.82512953 0.83376511\n",
      " 0.8380829  0.82944732 0.82944732 0.8380829  0.82081174 0.82081174\n",
      " 0.82081174 0.82081174 0.82081174 0.8380829  0.82512953 0.82081174\n",
      " 0.82081174 0.82081174 0.82081174 0.82081174 0.82081174 0.82081174\n",
      " 0.82081174 0.82081174 0.82081174 0.82081174 0.82081174 0.82081174\n",
      " 0.82081174 0.82081174 0.82081174 0.82081174 0.82081174 0.82081174\n",
      " 0.82081174 0.82081174 0.82081174 0.82081174 0.82081174 0.82081174\n",
      " 0.82081174 0.82081174 0.81376022 0.80708158 0.80176657 0.79665619\n",
      " 0.79208553 0.78783065 0.78380406 0.77990371]\n",
      "8 day output [[0.77606744]]\n",
      "9 day input [0.82081174 0.82081174 0.82081174 0.82081174 0.82081174 0.82081174\n",
      " 0.82081174 0.82081174 0.82081174 0.82081174 0.82081174 0.82081174\n",
      " 0.82081174 0.82081174 0.82081174 0.82081174 0.82081174 0.82081174\n",
      " 0.82081174 0.82081174 0.82081174 0.82081174 0.82081174 0.82081174\n",
      " 0.82081174 0.82081174 0.82081174 0.82081174 0.82081174 0.82081174\n",
      " 0.82081174 0.82081174 0.82081174 0.82081174 0.82081174 0.82081174\n",
      " 0.82081174 0.82081174 0.82081174 0.82081174 0.82081174 0.82081174\n",
      " 0.82081174 0.82081174 0.82081174 0.82081174 0.82512953 0.82944732\n",
      " 0.82512953 0.82944732 0.82081174 0.82512953 0.83376511 0.8380829\n",
      " 0.82944732 0.82944732 0.8380829  0.82081174 0.82081174 0.82081174\n",
      " 0.82081174 0.82081174 0.8380829  0.82512953 0.82081174 0.82081174\n",
      " 0.82081174 0.82081174 0.82081174 0.82081174 0.82081174 0.82081174\n",
      " 0.82081174 0.82081174 0.82081174 0.82081174 0.82081174 0.82081174\n",
      " 0.82081174 0.82081174 0.82081174 0.82081174 0.82081174 0.82081174\n",
      " 0.82081174 0.82081174 0.82081174 0.82081174 0.82081174 0.82081174\n",
      " 0.82081174 0.81376022 0.80708158 0.80176657 0.79665619 0.79208553\n",
      " 0.78783065 0.78380406 0.77990371 0.77606744]\n",
      "9 day output [[0.77226174]]\n",
      "10 day input [0.82081174 0.82081174 0.82081174 0.82081174 0.82081174 0.82081174\n",
      " 0.82081174 0.82081174 0.82081174 0.82081174 0.82081174 0.82081174\n",
      " 0.82081174 0.82081174 0.82081174 0.82081174 0.82081174 0.82081174\n",
      " 0.82081174 0.82081174 0.82081174 0.82081174 0.82081174 0.82081174\n",
      " 0.82081174 0.82081174 0.82081174 0.82081174 0.82081174 0.82081174\n",
      " 0.82081174 0.82081174 0.82081174 0.82081174 0.82081174 0.82081174\n",
      " 0.82081174 0.82081174 0.82081174 0.82081174 0.82081174 0.82081174\n",
      " 0.82081174 0.82081174 0.82081174 0.82512953 0.82944732 0.82512953\n",
      " 0.82944732 0.82081174 0.82512953 0.83376511 0.8380829  0.82944732\n",
      " 0.82944732 0.8380829  0.82081174 0.82081174 0.82081174 0.82081174\n",
      " 0.82081174 0.8380829  0.82512953 0.82081174 0.82081174 0.82081174\n",
      " 0.82081174 0.82081174 0.82081174 0.82081174 0.82081174 0.82081174\n",
      " 0.82081174 0.82081174 0.82081174 0.82081174 0.82081174 0.82081174\n",
      " 0.82081174 0.82081174 0.82081174 0.82081174 0.82081174 0.82081174\n",
      " 0.82081174 0.82081174 0.82081174 0.82081174 0.82081174 0.82081174\n",
      " 0.81376022 0.80708158 0.80176657 0.79665619 0.79208553 0.78783065\n",
      " 0.78380406 0.77990371 0.77606744 0.77226174]\n"
     ]
    },
    {
     "name": "stdout",
     "output_type": "stream",
     "text": [
      "10 day output [[0.768478]]\n",
      "11 day input [0.82081174 0.82081174 0.82081174 0.82081174 0.82081174 0.82081174\n",
      " 0.82081174 0.82081174 0.82081174 0.82081174 0.82081174 0.82081174\n",
      " 0.82081174 0.82081174 0.82081174 0.82081174 0.82081174 0.82081174\n",
      " 0.82081174 0.82081174 0.82081174 0.82081174 0.82081174 0.82081174\n",
      " 0.82081174 0.82081174 0.82081174 0.82081174 0.82081174 0.82081174\n",
      " 0.82081174 0.82081174 0.82081174 0.82081174 0.82081174 0.82081174\n",
      " 0.82081174 0.82081174 0.82081174 0.82081174 0.82081174 0.82081174\n",
      " 0.82081174 0.82081174 0.82512953 0.82944732 0.82512953 0.82944732\n",
      " 0.82081174 0.82512953 0.83376511 0.8380829  0.82944732 0.82944732\n",
      " 0.8380829  0.82081174 0.82081174 0.82081174 0.82081174 0.82081174\n",
      " 0.8380829  0.82512953 0.82081174 0.82081174 0.82081174 0.82081174\n",
      " 0.82081174 0.82081174 0.82081174 0.82081174 0.82081174 0.82081174\n",
      " 0.82081174 0.82081174 0.82081174 0.82081174 0.82081174 0.82081174\n",
      " 0.82081174 0.82081174 0.82081174 0.82081174 0.82081174 0.82081174\n",
      " 0.82081174 0.82081174 0.82081174 0.82081174 0.82081174 0.81376022\n",
      " 0.80708158 0.80176657 0.79665619 0.79208553 0.78783065 0.78380406\n",
      " 0.77990371 0.77606744 0.77226174 0.76847798]\n",
      "11 day output [[0.7647258]]\n",
      "12 day input [0.82081174 0.82081174 0.82081174 0.82081174 0.82081174 0.82081174\n",
      " 0.82081174 0.82081174 0.82081174 0.82081174 0.82081174 0.82081174\n",
      " 0.82081174 0.82081174 0.82081174 0.82081174 0.82081174 0.82081174\n",
      " 0.82081174 0.82081174 0.82081174 0.82081174 0.82081174 0.82081174\n",
      " 0.82081174 0.82081174 0.82081174 0.82081174 0.82081174 0.82081174\n",
      " 0.82081174 0.82081174 0.82081174 0.82081174 0.82081174 0.82081174\n",
      " 0.82081174 0.82081174 0.82081174 0.82081174 0.82081174 0.82081174\n",
      " 0.82081174 0.82512953 0.82944732 0.82512953 0.82944732 0.82081174\n",
      " 0.82512953 0.83376511 0.8380829  0.82944732 0.82944732 0.8380829\n",
      " 0.82081174 0.82081174 0.82081174 0.82081174 0.82081174 0.8380829\n",
      " 0.82512953 0.82081174 0.82081174 0.82081174 0.82081174 0.82081174\n",
      " 0.82081174 0.82081174 0.82081174 0.82081174 0.82081174 0.82081174\n",
      " 0.82081174 0.82081174 0.82081174 0.82081174 0.82081174 0.82081174\n",
      " 0.82081174 0.82081174 0.82081174 0.82081174 0.82081174 0.82081174\n",
      " 0.82081174 0.82081174 0.82081174 0.82081174 0.81376022 0.80708158\n",
      " 0.80176657 0.79665619 0.79208553 0.78783065 0.78380406 0.77990371\n",
      " 0.77606744 0.77226174 0.76847798 0.7647258 ]\n",
      "12 day output [[0.76102513]]\n",
      "13 day input [0.82081174 0.82081174 0.82081174 0.82081174 0.82081174 0.82081174\n",
      " 0.82081174 0.82081174 0.82081174 0.82081174 0.82081174 0.82081174\n",
      " 0.82081174 0.82081174 0.82081174 0.82081174 0.82081174 0.82081174\n",
      " 0.82081174 0.82081174 0.82081174 0.82081174 0.82081174 0.82081174\n",
      " 0.82081174 0.82081174 0.82081174 0.82081174 0.82081174 0.82081174\n",
      " 0.82081174 0.82081174 0.82081174 0.82081174 0.82081174 0.82081174\n",
      " 0.82081174 0.82081174 0.82081174 0.82081174 0.82081174 0.82081174\n",
      " 0.82512953 0.82944732 0.82512953 0.82944732 0.82081174 0.82512953\n",
      " 0.83376511 0.8380829  0.82944732 0.82944732 0.8380829  0.82081174\n",
      " 0.82081174 0.82081174 0.82081174 0.82081174 0.8380829  0.82512953\n",
      " 0.82081174 0.82081174 0.82081174 0.82081174 0.82081174 0.82081174\n",
      " 0.82081174 0.82081174 0.82081174 0.82081174 0.82081174 0.82081174\n",
      " 0.82081174 0.82081174 0.82081174 0.82081174 0.82081174 0.82081174\n",
      " 0.82081174 0.82081174 0.82081174 0.82081174 0.82081174 0.82081174\n",
      " 0.82081174 0.82081174 0.82081174 0.81376022 0.80708158 0.80176657\n",
      " 0.79665619 0.79208553 0.78783065 0.78380406 0.77990371 0.77606744\n",
      " 0.77226174 0.76847798 0.7647258  0.76102513]\n",
      "13 day output [[0.7574]]\n",
      "14 day input [0.82081174 0.82081174 0.82081174 0.82081174 0.82081174 0.82081174\n",
      " 0.82081174 0.82081174 0.82081174 0.82081174 0.82081174 0.82081174\n",
      " 0.82081174 0.82081174 0.82081174 0.82081174 0.82081174 0.82081174\n",
      " 0.82081174 0.82081174 0.82081174 0.82081174 0.82081174 0.82081174\n",
      " 0.82081174 0.82081174 0.82081174 0.82081174 0.82081174 0.82081174\n",
      " 0.82081174 0.82081174 0.82081174 0.82081174 0.82081174 0.82081174\n",
      " 0.82081174 0.82081174 0.82081174 0.82081174 0.82081174 0.82512953\n",
      " 0.82944732 0.82512953 0.82944732 0.82081174 0.82512953 0.83376511\n",
      " 0.8380829  0.82944732 0.82944732 0.8380829  0.82081174 0.82081174\n",
      " 0.82081174 0.82081174 0.82081174 0.8380829  0.82512953 0.82081174\n",
      " 0.82081174 0.82081174 0.82081174 0.82081174 0.82081174 0.82081174\n",
      " 0.82081174 0.82081174 0.82081174 0.82081174 0.82081174 0.82081174\n",
      " 0.82081174 0.82081174 0.82081174 0.82081174 0.82081174 0.82081174\n",
      " 0.82081174 0.82081174 0.82081174 0.82081174 0.82081174 0.82081174\n",
      " 0.82081174 0.82081174 0.81376022 0.80708158 0.80176657 0.79665619\n",
      " 0.79208553 0.78783065 0.78380406 0.77990371 0.77606744 0.77226174\n",
      " 0.76847798 0.7647258  0.76102513 0.75739998]\n",
      "14 day output [[0.7538734]]\n",
      "15 day input [0.82081174 0.82081174 0.82081174 0.82081174 0.82081174 0.82081174\n",
      " 0.82081174 0.82081174 0.82081174 0.82081174 0.82081174 0.82081174\n",
      " 0.82081174 0.82081174 0.82081174 0.82081174 0.82081174 0.82081174\n",
      " 0.82081174 0.82081174 0.82081174 0.82081174 0.82081174 0.82081174\n",
      " 0.82081174 0.82081174 0.82081174 0.82081174 0.82081174 0.82081174\n",
      " 0.82081174 0.82081174 0.82081174 0.82081174 0.82081174 0.82081174\n",
      " 0.82081174 0.82081174 0.82081174 0.82081174 0.82512953 0.82944732\n",
      " 0.82512953 0.82944732 0.82081174 0.82512953 0.83376511 0.8380829\n",
      " 0.82944732 0.82944732 0.8380829  0.82081174 0.82081174 0.82081174\n",
      " 0.82081174 0.82081174 0.8380829  0.82512953 0.82081174 0.82081174\n",
      " 0.82081174 0.82081174 0.82081174 0.82081174 0.82081174 0.82081174\n",
      " 0.82081174 0.82081174 0.82081174 0.82081174 0.82081174 0.82081174\n",
      " 0.82081174 0.82081174 0.82081174 0.82081174 0.82081174 0.82081174\n",
      " 0.82081174 0.82081174 0.82081174 0.82081174 0.82081174 0.82081174\n",
      " 0.82081174 0.81376022 0.80708158 0.80176657 0.79665619 0.79208553\n",
      " 0.78783065 0.78380406 0.77990371 0.77606744 0.77226174 0.76847798\n",
      " 0.7647258  0.76102513 0.75739998 0.75387341]\n",
      "15 day output [[0.75046617]]\n",
      "16 day input [0.82081174 0.82081174 0.82081174 0.82081174 0.82081174 0.82081174\n",
      " 0.82081174 0.82081174 0.82081174 0.82081174 0.82081174 0.82081174\n",
      " 0.82081174 0.82081174 0.82081174 0.82081174 0.82081174 0.82081174\n",
      " 0.82081174 0.82081174 0.82081174 0.82081174 0.82081174 0.82081174\n",
      " 0.82081174 0.82081174 0.82081174 0.82081174 0.82081174 0.82081174\n",
      " 0.82081174 0.82081174 0.82081174 0.82081174 0.82081174 0.82081174\n",
      " 0.82081174 0.82081174 0.82081174 0.82512953 0.82944732 0.82512953\n",
      " 0.82944732 0.82081174 0.82512953 0.83376511 0.8380829  0.82944732\n",
      " 0.82944732 0.8380829  0.82081174 0.82081174 0.82081174 0.82081174\n",
      " 0.82081174 0.8380829  0.82512953 0.82081174 0.82081174 0.82081174\n",
      " 0.82081174 0.82081174 0.82081174 0.82081174 0.82081174 0.82081174\n",
      " 0.82081174 0.82081174 0.82081174 0.82081174 0.82081174 0.82081174\n",
      " 0.82081174 0.82081174 0.82081174 0.82081174 0.82081174 0.82081174\n",
      " 0.82081174 0.82081174 0.82081174 0.82081174 0.82081174 0.82081174\n",
      " 0.81376022 0.80708158 0.80176657 0.79665619 0.79208553 0.78783065\n",
      " 0.78380406 0.77990371 0.77606744 0.77226174 0.76847798 0.7647258\n",
      " 0.76102513 0.75739998 0.75387341 0.75046617]\n",
      "16 day output [[0.74719304]]\n",
      "17 day input [0.82081174 0.82081174 0.82081174 0.82081174 0.82081174 0.82081174\n",
      " 0.82081174 0.82081174 0.82081174 0.82081174 0.82081174 0.82081174\n",
      " 0.82081174 0.82081174 0.82081174 0.82081174 0.82081174 0.82081174\n",
      " 0.82081174 0.82081174 0.82081174 0.82081174 0.82081174 0.82081174\n",
      " 0.82081174 0.82081174 0.82081174 0.82081174 0.82081174 0.82081174\n",
      " 0.82081174 0.82081174 0.82081174 0.82081174 0.82081174 0.82081174\n",
      " 0.82081174 0.82081174 0.82512953 0.82944732 0.82512953 0.82944732\n",
      " 0.82081174 0.82512953 0.83376511 0.8380829  0.82944732 0.82944732\n",
      " 0.8380829  0.82081174 0.82081174 0.82081174 0.82081174 0.82081174\n",
      " 0.8380829  0.82512953 0.82081174 0.82081174 0.82081174 0.82081174\n",
      " 0.82081174 0.82081174 0.82081174 0.82081174 0.82081174 0.82081174\n",
      " 0.82081174 0.82081174 0.82081174 0.82081174 0.82081174 0.82081174\n",
      " 0.82081174 0.82081174 0.82081174 0.82081174 0.82081174 0.82081174\n",
      " 0.82081174 0.82081174 0.82081174 0.82081174 0.82081174 0.81376022\n",
      " 0.80708158 0.80176657 0.79665619 0.79208553 0.78783065 0.78380406\n",
      " 0.77990371 0.77606744 0.77226174 0.76847798 0.7647258  0.76102513\n",
      " 0.75739998 0.75387341 0.75046617 0.74719304]\n",
      "17 day output [[0.744064]]\n",
      "18 day input [0.82081174 0.82081174 0.82081174 0.82081174 0.82081174 0.82081174\n",
      " 0.82081174 0.82081174 0.82081174 0.82081174 0.82081174 0.82081174\n",
      " 0.82081174 0.82081174 0.82081174 0.82081174 0.82081174 0.82081174\n",
      " 0.82081174 0.82081174 0.82081174 0.82081174 0.82081174 0.82081174\n",
      " 0.82081174 0.82081174 0.82081174 0.82081174 0.82081174 0.82081174\n",
      " 0.82081174 0.82081174 0.82081174 0.82081174 0.82081174 0.82081174\n",
      " 0.82081174 0.82512953 0.82944732 0.82512953 0.82944732 0.82081174\n",
      " 0.82512953 0.83376511 0.8380829  0.82944732 0.82944732 0.8380829\n",
      " 0.82081174 0.82081174 0.82081174 0.82081174 0.82081174 0.8380829\n",
      " 0.82512953 0.82081174 0.82081174 0.82081174 0.82081174 0.82081174\n",
      " 0.82081174 0.82081174 0.82081174 0.82081174 0.82081174 0.82081174\n",
      " 0.82081174 0.82081174 0.82081174 0.82081174 0.82081174 0.82081174\n",
      " 0.82081174 0.82081174 0.82081174 0.82081174 0.82081174 0.82081174\n",
      " 0.82081174 0.82081174 0.82081174 0.82081174 0.81376022 0.80708158\n",
      " 0.80176657 0.79665619 0.79208553 0.78783065 0.78380406 0.77990371\n",
      " 0.77606744 0.77226174 0.76847798 0.7647258  0.76102513 0.75739998\n",
      " 0.75387341 0.75046617 0.74719304 0.74406397]\n",
      "18 day output [[0.74108416]]\n",
      "19 day input [0.82081174 0.82081174 0.82081174 0.82081174 0.82081174 0.82081174\n",
      " 0.82081174 0.82081174 0.82081174 0.82081174 0.82081174 0.82081174\n",
      " 0.82081174 0.82081174 0.82081174 0.82081174 0.82081174 0.82081174\n",
      " 0.82081174 0.82081174 0.82081174 0.82081174 0.82081174 0.82081174\n",
      " 0.82081174 0.82081174 0.82081174 0.82081174 0.82081174 0.82081174\n",
      " 0.82081174 0.82081174 0.82081174 0.82081174 0.82081174 0.82081174\n",
      " 0.82512953 0.82944732 0.82512953 0.82944732 0.82081174 0.82512953\n",
      " 0.83376511 0.8380829  0.82944732 0.82944732 0.8380829  0.82081174\n",
      " 0.82081174 0.82081174 0.82081174 0.82081174 0.8380829  0.82512953\n",
      " 0.82081174 0.82081174 0.82081174 0.82081174 0.82081174 0.82081174\n",
      " 0.82081174 0.82081174 0.82081174 0.82081174 0.82081174 0.82081174\n",
      " 0.82081174 0.82081174 0.82081174 0.82081174 0.82081174 0.82081174\n",
      " 0.82081174 0.82081174 0.82081174 0.82081174 0.82081174 0.82081174\n",
      " 0.82081174 0.82081174 0.82081174 0.81376022 0.80708158 0.80176657\n",
      " 0.79665619 0.79208553 0.78783065 0.78380406 0.77990371 0.77606744\n",
      " 0.77226174 0.76847798 0.7647258  0.76102513 0.75739998 0.75387341\n",
      " 0.75046617 0.74719304 0.74406397 0.74108416]\n",
      "19 day output [[0.738255]]\n",
      "20 day input [0.82081174 0.82081174 0.82081174 0.82081174 0.82081174 0.82081174\n",
      " 0.82081174 0.82081174 0.82081174 0.82081174 0.82081174 0.82081174\n",
      " 0.82081174 0.82081174 0.82081174 0.82081174 0.82081174 0.82081174\n",
      " 0.82081174 0.82081174 0.82081174 0.82081174 0.82081174 0.82081174\n",
      " 0.82081174 0.82081174 0.82081174 0.82081174 0.82081174 0.82081174\n",
      " 0.82081174 0.82081174 0.82081174 0.82081174 0.82081174 0.82512953\n",
      " 0.82944732 0.82512953 0.82944732 0.82081174 0.82512953 0.83376511\n",
      " 0.8380829  0.82944732 0.82944732 0.8380829  0.82081174 0.82081174\n",
      " 0.82081174 0.82081174 0.82081174 0.8380829  0.82512953 0.82081174\n",
      " 0.82081174 0.82081174 0.82081174 0.82081174 0.82081174 0.82081174\n",
      " 0.82081174 0.82081174 0.82081174 0.82081174 0.82081174 0.82081174\n",
      " 0.82081174 0.82081174 0.82081174 0.82081174 0.82081174 0.82081174\n",
      " 0.82081174 0.82081174 0.82081174 0.82081174 0.82081174 0.82081174\n",
      " 0.82081174 0.82081174 0.81376022 0.80708158 0.80176657 0.79665619\n",
      " 0.79208553 0.78783065 0.78380406 0.77990371 0.77606744 0.77226174\n",
      " 0.76847798 0.7647258  0.76102513 0.75739998 0.75387341 0.75046617\n",
      " 0.74719304 0.74406397 0.74108416 0.73825502]\n"
     ]
    },
    {
     "name": "stdout",
     "output_type": "stream",
     "text": [
      "20 day output [[0.7355746]]\n",
      "21 day input [0.82081174 0.82081174 0.82081174 0.82081174 0.82081174 0.82081174\n",
      " 0.82081174 0.82081174 0.82081174 0.82081174 0.82081174 0.82081174\n",
      " 0.82081174 0.82081174 0.82081174 0.82081174 0.82081174 0.82081174\n",
      " 0.82081174 0.82081174 0.82081174 0.82081174 0.82081174 0.82081174\n",
      " 0.82081174 0.82081174 0.82081174 0.82081174 0.82081174 0.82081174\n",
      " 0.82081174 0.82081174 0.82081174 0.82081174 0.82512953 0.82944732\n",
      " 0.82512953 0.82944732 0.82081174 0.82512953 0.83376511 0.8380829\n",
      " 0.82944732 0.82944732 0.8380829  0.82081174 0.82081174 0.82081174\n",
      " 0.82081174 0.82081174 0.8380829  0.82512953 0.82081174 0.82081174\n",
      " 0.82081174 0.82081174 0.82081174 0.82081174 0.82081174 0.82081174\n",
      " 0.82081174 0.82081174 0.82081174 0.82081174 0.82081174 0.82081174\n",
      " 0.82081174 0.82081174 0.82081174 0.82081174 0.82081174 0.82081174\n",
      " 0.82081174 0.82081174 0.82081174 0.82081174 0.82081174 0.82081174\n",
      " 0.82081174 0.81376022 0.80708158 0.80176657 0.79665619 0.79208553\n",
      " 0.78783065 0.78380406 0.77990371 0.77606744 0.77226174 0.76847798\n",
      " 0.7647258  0.76102513 0.75739998 0.75387341 0.75046617 0.74719304\n",
      " 0.74406397 0.74108416 0.73825502 0.7355746 ]\n",
      "21 day output [[0.73303884]]\n",
      "22 day input [0.82081174 0.82081174 0.82081174 0.82081174 0.82081174 0.82081174\n",
      " 0.82081174 0.82081174 0.82081174 0.82081174 0.82081174 0.82081174\n",
      " 0.82081174 0.82081174 0.82081174 0.82081174 0.82081174 0.82081174\n",
      " 0.82081174 0.82081174 0.82081174 0.82081174 0.82081174 0.82081174\n",
      " 0.82081174 0.82081174 0.82081174 0.82081174 0.82081174 0.82081174\n",
      " 0.82081174 0.82081174 0.82081174 0.82512953 0.82944732 0.82512953\n",
      " 0.82944732 0.82081174 0.82512953 0.83376511 0.8380829  0.82944732\n",
      " 0.82944732 0.8380829  0.82081174 0.82081174 0.82081174 0.82081174\n",
      " 0.82081174 0.8380829  0.82512953 0.82081174 0.82081174 0.82081174\n",
      " 0.82081174 0.82081174 0.82081174 0.82081174 0.82081174 0.82081174\n",
      " 0.82081174 0.82081174 0.82081174 0.82081174 0.82081174 0.82081174\n",
      " 0.82081174 0.82081174 0.82081174 0.82081174 0.82081174 0.82081174\n",
      " 0.82081174 0.82081174 0.82081174 0.82081174 0.82081174 0.82081174\n",
      " 0.81376022 0.80708158 0.80176657 0.79665619 0.79208553 0.78783065\n",
      " 0.78380406 0.77990371 0.77606744 0.77226174 0.76847798 0.7647258\n",
      " 0.76102513 0.75739998 0.75387341 0.75046617 0.74719304 0.74406397\n",
      " 0.74108416 0.73825502 0.7355746  0.73303884]\n",
      "22 day output [[0.73064256]]\n",
      "23 day input [0.82081174 0.82081174 0.82081174 0.82081174 0.82081174 0.82081174\n",
      " 0.82081174 0.82081174 0.82081174 0.82081174 0.82081174 0.82081174\n",
      " 0.82081174 0.82081174 0.82081174 0.82081174 0.82081174 0.82081174\n",
      " 0.82081174 0.82081174 0.82081174 0.82081174 0.82081174 0.82081174\n",
      " 0.82081174 0.82081174 0.82081174 0.82081174 0.82081174 0.82081174\n",
      " 0.82081174 0.82081174 0.82512953 0.82944732 0.82512953 0.82944732\n",
      " 0.82081174 0.82512953 0.83376511 0.8380829  0.82944732 0.82944732\n",
      " 0.8380829  0.82081174 0.82081174 0.82081174 0.82081174 0.82081174\n",
      " 0.8380829  0.82512953 0.82081174 0.82081174 0.82081174 0.82081174\n",
      " 0.82081174 0.82081174 0.82081174 0.82081174 0.82081174 0.82081174\n",
      " 0.82081174 0.82081174 0.82081174 0.82081174 0.82081174 0.82081174\n",
      " 0.82081174 0.82081174 0.82081174 0.82081174 0.82081174 0.82081174\n",
      " 0.82081174 0.82081174 0.82081174 0.82081174 0.82081174 0.81376022\n",
      " 0.80708158 0.80176657 0.79665619 0.79208553 0.78783065 0.78380406\n",
      " 0.77990371 0.77606744 0.77226174 0.76847798 0.7647258  0.76102513\n",
      " 0.75739998 0.75387341 0.75046617 0.74719304 0.74406397 0.74108416\n",
      " 0.73825502 0.7355746  0.73303884 0.73064256]\n",
      "23 day output [[0.7283798]]\n",
      "24 day input [0.82081174 0.82081174 0.82081174 0.82081174 0.82081174 0.82081174\n",
      " 0.82081174 0.82081174 0.82081174 0.82081174 0.82081174 0.82081174\n",
      " 0.82081174 0.82081174 0.82081174 0.82081174 0.82081174 0.82081174\n",
      " 0.82081174 0.82081174 0.82081174 0.82081174 0.82081174 0.82081174\n",
      " 0.82081174 0.82081174 0.82081174 0.82081174 0.82081174 0.82081174\n",
      " 0.82081174 0.82512953 0.82944732 0.82512953 0.82944732 0.82081174\n",
      " 0.82512953 0.83376511 0.8380829  0.82944732 0.82944732 0.8380829\n",
      " 0.82081174 0.82081174 0.82081174 0.82081174 0.82081174 0.8380829\n",
      " 0.82512953 0.82081174 0.82081174 0.82081174 0.82081174 0.82081174\n",
      " 0.82081174 0.82081174 0.82081174 0.82081174 0.82081174 0.82081174\n",
      " 0.82081174 0.82081174 0.82081174 0.82081174 0.82081174 0.82081174\n",
      " 0.82081174 0.82081174 0.82081174 0.82081174 0.82081174 0.82081174\n",
      " 0.82081174 0.82081174 0.82081174 0.82081174 0.81376022 0.80708158\n",
      " 0.80176657 0.79665619 0.79208553 0.78783065 0.78380406 0.77990371\n",
      " 0.77606744 0.77226174 0.76847798 0.7647258  0.76102513 0.75739998\n",
      " 0.75387341 0.75046617 0.74719304 0.74406397 0.74108416 0.73825502\n",
      " 0.7355746  0.73303884 0.73064256 0.72837979]\n",
      "24 day output [[0.72624385]]\n",
      "25 day input [0.82081174 0.82081174 0.82081174 0.82081174 0.82081174 0.82081174\n",
      " 0.82081174 0.82081174 0.82081174 0.82081174 0.82081174 0.82081174\n",
      " 0.82081174 0.82081174 0.82081174 0.82081174 0.82081174 0.82081174\n",
      " 0.82081174 0.82081174 0.82081174 0.82081174 0.82081174 0.82081174\n",
      " 0.82081174 0.82081174 0.82081174 0.82081174 0.82081174 0.82081174\n",
      " 0.82512953 0.82944732 0.82512953 0.82944732 0.82081174 0.82512953\n",
      " 0.83376511 0.8380829  0.82944732 0.82944732 0.8380829  0.82081174\n",
      " 0.82081174 0.82081174 0.82081174 0.82081174 0.8380829  0.82512953\n",
      " 0.82081174 0.82081174 0.82081174 0.82081174 0.82081174 0.82081174\n",
      " 0.82081174 0.82081174 0.82081174 0.82081174 0.82081174 0.82081174\n",
      " 0.82081174 0.82081174 0.82081174 0.82081174 0.82081174 0.82081174\n",
      " 0.82081174 0.82081174 0.82081174 0.82081174 0.82081174 0.82081174\n",
      " 0.82081174 0.82081174 0.82081174 0.81376022 0.80708158 0.80176657\n",
      " 0.79665619 0.79208553 0.78783065 0.78380406 0.77990371 0.77606744\n",
      " 0.77226174 0.76847798 0.7647258  0.76102513 0.75739998 0.75387341\n",
      " 0.75046617 0.74719304 0.74406397 0.74108416 0.73825502 0.7355746\n",
      " 0.73303884 0.73064256 0.72837979 0.72624385]\n",
      "25 day output [[0.7242283]]\n",
      "26 day input [0.82081174 0.82081174 0.82081174 0.82081174 0.82081174 0.82081174\n",
      " 0.82081174 0.82081174 0.82081174 0.82081174 0.82081174 0.82081174\n",
      " 0.82081174 0.82081174 0.82081174 0.82081174 0.82081174 0.82081174\n",
      " 0.82081174 0.82081174 0.82081174 0.82081174 0.82081174 0.82081174\n",
      " 0.82081174 0.82081174 0.82081174 0.82081174 0.82081174 0.82512953\n",
      " 0.82944732 0.82512953 0.82944732 0.82081174 0.82512953 0.83376511\n",
      " 0.8380829  0.82944732 0.82944732 0.8380829  0.82081174 0.82081174\n",
      " 0.82081174 0.82081174 0.82081174 0.8380829  0.82512953 0.82081174\n",
      " 0.82081174 0.82081174 0.82081174 0.82081174 0.82081174 0.82081174\n",
      " 0.82081174 0.82081174 0.82081174 0.82081174 0.82081174 0.82081174\n",
      " 0.82081174 0.82081174 0.82081174 0.82081174 0.82081174 0.82081174\n",
      " 0.82081174 0.82081174 0.82081174 0.82081174 0.82081174 0.82081174\n",
      " 0.82081174 0.82081174 0.81376022 0.80708158 0.80176657 0.79665619\n",
      " 0.79208553 0.78783065 0.78380406 0.77990371 0.77606744 0.77226174\n",
      " 0.76847798 0.7647258  0.76102513 0.75739998 0.75387341 0.75046617\n",
      " 0.74719304 0.74406397 0.74108416 0.73825502 0.7355746  0.73303884\n",
      " 0.73064256 0.72837979 0.72624385 0.72422832]\n",
      "26 day output [[0.72232664]]\n",
      "27 day input [0.82081174 0.82081174 0.82081174 0.82081174 0.82081174 0.82081174\n",
      " 0.82081174 0.82081174 0.82081174 0.82081174 0.82081174 0.82081174\n",
      " 0.82081174 0.82081174 0.82081174 0.82081174 0.82081174 0.82081174\n",
      " 0.82081174 0.82081174 0.82081174 0.82081174 0.82081174 0.82081174\n",
      " 0.82081174 0.82081174 0.82081174 0.82081174 0.82512953 0.82944732\n",
      " 0.82512953 0.82944732 0.82081174 0.82512953 0.83376511 0.8380829\n",
      " 0.82944732 0.82944732 0.8380829  0.82081174 0.82081174 0.82081174\n",
      " 0.82081174 0.82081174 0.8380829  0.82512953 0.82081174 0.82081174\n",
      " 0.82081174 0.82081174 0.82081174 0.82081174 0.82081174 0.82081174\n",
      " 0.82081174 0.82081174 0.82081174 0.82081174 0.82081174 0.82081174\n",
      " 0.82081174 0.82081174 0.82081174 0.82081174 0.82081174 0.82081174\n",
      " 0.82081174 0.82081174 0.82081174 0.82081174 0.82081174 0.82081174\n",
      " 0.82081174 0.81376022 0.80708158 0.80176657 0.79665619 0.79208553\n",
      " 0.78783065 0.78380406 0.77990371 0.77606744 0.77226174 0.76847798\n",
      " 0.7647258  0.76102513 0.75739998 0.75387341 0.75046617 0.74719304\n",
      " 0.74406397 0.74108416 0.73825502 0.7355746  0.73303884 0.73064256\n",
      " 0.72837979 0.72624385 0.72422832 0.72232664]\n",
      "27 day output [[0.72053283]]\n",
      "28 day input [0.82081174 0.82081174 0.82081174 0.82081174 0.82081174 0.82081174\n",
      " 0.82081174 0.82081174 0.82081174 0.82081174 0.82081174 0.82081174\n",
      " 0.82081174 0.82081174 0.82081174 0.82081174 0.82081174 0.82081174\n",
      " 0.82081174 0.82081174 0.82081174 0.82081174 0.82081174 0.82081174\n",
      " 0.82081174 0.82081174 0.82081174 0.82512953 0.82944732 0.82512953\n",
      " 0.82944732 0.82081174 0.82512953 0.83376511 0.8380829  0.82944732\n",
      " 0.82944732 0.8380829  0.82081174 0.82081174 0.82081174 0.82081174\n",
      " 0.82081174 0.8380829  0.82512953 0.82081174 0.82081174 0.82081174\n",
      " 0.82081174 0.82081174 0.82081174 0.82081174 0.82081174 0.82081174\n",
      " 0.82081174 0.82081174 0.82081174 0.82081174 0.82081174 0.82081174\n",
      " 0.82081174 0.82081174 0.82081174 0.82081174 0.82081174 0.82081174\n",
      " 0.82081174 0.82081174 0.82081174 0.82081174 0.82081174 0.82081174\n",
      " 0.81376022 0.80708158 0.80176657 0.79665619 0.79208553 0.78783065\n",
      " 0.78380406 0.77990371 0.77606744 0.77226174 0.76847798 0.7647258\n",
      " 0.76102513 0.75739998 0.75387341 0.75046617 0.74719304 0.74406397\n",
      " 0.74108416 0.73825502 0.7355746  0.73303884 0.73064256 0.72837979\n",
      " 0.72624385 0.72422832 0.72232664 0.72053283]\n",
      "28 day output [[0.71884084]]\n",
      "29 day input [0.82081174 0.82081174 0.82081174 0.82081174 0.82081174 0.82081174\n",
      " 0.82081174 0.82081174 0.82081174 0.82081174 0.82081174 0.82081174\n",
      " 0.82081174 0.82081174 0.82081174 0.82081174 0.82081174 0.82081174\n",
      " 0.82081174 0.82081174 0.82081174 0.82081174 0.82081174 0.82081174\n",
      " 0.82081174 0.82081174 0.82512953 0.82944732 0.82512953 0.82944732\n",
      " 0.82081174 0.82512953 0.83376511 0.8380829  0.82944732 0.82944732\n",
      " 0.8380829  0.82081174 0.82081174 0.82081174 0.82081174 0.82081174\n",
      " 0.8380829  0.82512953 0.82081174 0.82081174 0.82081174 0.82081174\n",
      " 0.82081174 0.82081174 0.82081174 0.82081174 0.82081174 0.82081174\n",
      " 0.82081174 0.82081174 0.82081174 0.82081174 0.82081174 0.82081174\n",
      " 0.82081174 0.82081174 0.82081174 0.82081174 0.82081174 0.82081174\n",
      " 0.82081174 0.82081174 0.82081174 0.82081174 0.82081174 0.81376022\n",
      " 0.80708158 0.80176657 0.79665619 0.79208553 0.78783065 0.78380406\n",
      " 0.77990371 0.77606744 0.77226174 0.76847798 0.7647258  0.76102513\n",
      " 0.75739998 0.75387341 0.75046617 0.74719304 0.74406397 0.74108416\n",
      " 0.73825502 0.7355746  0.73303884 0.73064256 0.72837979 0.72624385\n",
      " 0.72422832 0.72232664 0.72053283 0.71884084]\n",
      "29 day output [[0.71724457]]\n",
      "[[0.8137602210044861], [0.8070815801620483], [0.801766574382782], [0.7966561913490295], [0.7920855283737183], [0.787830650806427], [0.7838040590286255], [0.7799037098884583], [0.7760674357414246], [0.7722617387771606], [0.7684779763221741], [0.7647258043289185], [0.7610251307487488], [0.7573999762535095], [0.7538734078407288], [0.7504661679267883], [0.7471930384635925], [0.7440639734268188], [0.7410841584205627], [0.7382550239562988], [0.7355746030807495], [0.7330388426780701], [0.730642557144165], [0.7283797860145569], [0.7262438535690308], [0.7242283225059509], [0.7223266363143921], [0.7205328345298767], [0.7188408374786377], [0.717244565486908]]\n"
     ]
    }
   ],
   "source": [
    "from numpy import array\n",
    "\n",
    "lst_output=[]\n",
    "n_steps=100\n",
    "i=0\n",
    "while(i<30):\n",
    "    \n",
    "    if(len(temp_input)>100):\n",
    "        #print(temp_input)\n",
    "        x_input=np.array(temp_input[1:])\n",
    "        print(\"{} day input {}\".format(i,x_input))\n",
    "        x_input=x_input.reshape(1,-1)\n",
    "        x_input = x_input.reshape((1, n_steps, 1))\n",
    "        #print(x_input)\n",
    "        yhat = model.predict(x_input, verbose=0)\n",
    "        print(\"{} day output {}\".format(i,yhat))\n",
    "        temp_input.extend(yhat[0].tolist())\n",
    "        temp_input=temp_input[1:]\n",
    "        #print(temp_input)\n",
    "        lst_output.extend(yhat.tolist())\n",
    "        i=i+1\n",
    "    else:\n",
    "        x_input = x_input.reshape((1, n_steps,1))\n",
    "        yhat = model.predict(x_input, verbose=0)\n",
    "        print(yhat[0])\n",
    "        temp_input.extend(yhat[0].tolist())\n",
    "        print(len(temp_input))\n",
    "        lst_output.extend(yhat.tolist())\n",
    "        i=i+1\n",
    "    \n",
    "\n",
    "print(lst_output)"
   ]
  },
  {
   "cell_type": "code",
   "execution_count": 42,
   "id": "6cc152f2",
   "metadata": {},
   "outputs": [],
   "source": [
    "day_new=np.arange(1,101)\n",
    "day_pred=np.arange(101,131)"
   ]
  },
  {
   "cell_type": "code",
   "execution_count": 43,
   "id": "498ea1a4",
   "metadata": {},
   "outputs": [],
   "source": [
    "import matplotlib.pyplot as plt"
   ]
  },
  {
   "cell_type": "code",
   "execution_count": 44,
   "id": "f29bed4b",
   "metadata": {},
   "outputs": [
    {
     "data": {
      "text/plain": [
       "3695"
      ]
     },
     "execution_count": 44,
     "metadata": {},
     "output_type": "execute_result"
    }
   ],
   "source": [
    "len(df1)"
   ]
  },
  {
   "cell_type": "code",
   "execution_count": 45,
   "id": "aba3283e",
   "metadata": {},
   "outputs": [
    {
     "data": {
      "text/plain": [
       "[<matplotlib.lines.Line2D at 0x2160cc8e290>]"
      ]
     },
     "execution_count": 45,
     "metadata": {},
     "output_type": "execute_result"
    },
    {
     "data": {
      "image/png": "[encoded data removed]",
      "text/plain": [
       "<Figure size 640x480 with 1 Axes>"
      ]
     },
     "metadata": {},
     "output_type": "display_data"
    }
   ],
   "source": [
    "plt.plot(day_new,scaler.inverse_transform(df1[3595:]))\n",
    "plt.plot(day_pred,scaler.inverse_transform(lst_output))"
   ]
  },
  {
   "cell_type": "code",
   "execution_count": 46,
   "id": "1d86eecc",
   "metadata": {},
   "outputs": [
    {
     "data": {
      "text/plain": [
       "[<matplotlib.lines.Line2D at 0x2167e883210>]"
      ]
     },
     "execution_count": 46,
     "metadata": {},
     "output_type": "execute_result"
    },
    {
     "data": {
      "image/png": "[encoded data removed]",
      "text/plain": [
       "<Figure size 640x480 with 1 Axes>"
      ]
     },
     "metadata": {},
     "output_type": "display_data"
    }
   ],
   "source": [
    "df3=df1.tolist()\n",
    "df3.extend(lst_output)\n",
    "plt.plot(df3[3620:])"
   ]
  },
  {
   "cell_type": "code",
   "execution_count": 47,
   "id": "af05598c",
   "metadata": {},
   "outputs": [],
   "source": [
    "df3=scaler.inverse_transform(df3).tolist()"
   ]
  },
  {
   "cell_type": "code",
   "execution_count": 48,
   "id": "7289622f",
   "metadata": {},
   "outputs": [
    {
     "data": {
      "text/plain": [
       "[<matplotlib.lines.Line2D at 0x2160d1e4b50>]"
      ]
     },
     "execution_count": 48,
     "metadata": {},
     "output_type": "execute_result"
    },
    {
     "data": {
      "image/png": "[encoded data removed]",
      "text/plain": [
       "<Figure size 640x480 with 1 Axes>"
      ]
     },
     "metadata": {},
     "output_type": "display_data"
    }
   ],
   "source": [
    "plt.plot(df3)"
   ]
  },
  {
   "cell_type": "code",
   "execution_count": null,
   "id": "fd8b2252",
   "metadata": {},
   "outputs": [],
   "source": []
  }
 ],
 "metadata": {
  "kernelspec": {
   "display_name": "Python 3 (ipykernel)",
   "language": "python",
   "name": "python3"
  },
  "language_info": {
   "codemirror_mode": {
    "name": "ipython",
    "version": 3
   },
   "file_extension": ".py",
   "mimetype": "text/x-python",
   "name": "python",
   "nbconvert_exporter": "python",
   "pygments_lexer": "ipython3",
   "version": "3.11.5"
  }
 },
 "nbformat": 4,
 "nbformat_minor": 5
}
